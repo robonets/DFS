{
 "cells": [
  {
   "cell_type": "markdown",
   "id": "fef36cff-7c4e-425e-ae9c-d80111aa41d7",
   "metadata": {},
   "source": [
    "Newton Method"
   ]
  },
  {
   "cell_type": "code",
   "execution_count": 13,
   "id": "1c94ce60-e875-400b-aee3-00abcbb57fee",
   "metadata": {},
   "outputs": [
    {
     "name": "stdout",
     "output_type": "stream",
     "text": [
      "0 variable(2.0)\n",
      "1 variable(1.4545454545454546)\n",
      "2 variable(1.1510467893775467)\n",
      "3 variable(1.0253259289766978)\n",
      "4 variable(1.0009084519430513)\n",
      "5 variable(1.0000012353089454)\n",
      "6 variable(1.000000000002289)\n",
      "7 variable(1.0)\n",
      "8 variable(1.0)\n",
      "9 variable(1.0)\n"
     ]
    }
   ],
   "source": [
    "# Taylor series with up to 2nd order derivative\n",
    "# in contrast to gradient descent, Newton method uses first and second derivative\n",
    "# seconds derivative sets degree of learning rate automatically, while we set learning rate manually under gradient descent \n",
    "\n",
    "# example\n",
    "# y = x^4 - 2x^2\n",
    "\n",
    "import sys\n",
    "import os\n",
    "\n",
    "cwd = os.getcwd()\n",
    "parent_dir = os.path.abspath(os.path.join(cwd, os.pardir))\n",
    "sys.path.append(parent_dir)\n",
    "\n",
    "import numpy as np\n",
    "from dezero.core_simple import Variable, setup_variable\n",
    "\n",
    "setup_variable()\n",
    "\n",
    "def f(x):\n",
    "    y = x**4 - 2*x**2\n",
    "    return y\n",
    "\n",
    "def gx2(x):\n",
    "    return 12*x**2 - 4\n",
    "\n",
    "x = Variable(np.array(2.0))\n",
    "iters = 10\n",
    "\n",
    "for i in range(iters):\n",
    "    print(i, x)\n",
    "\n",
    "    y = f(x)\n",
    "    x.cleargrad()\n",
    "    y.backward()\n",
    "\n",
    "    x.data -= x.grad / gx2(x.data)"
   ]
  },
  {
   "cell_type": "markdown",
   "id": "2cb2fe89-9cea-43fa-adc8-5b45cf8e044d",
   "metadata": {},
   "source": [
    "on seventh trial, it reached the point.\n",
    "But, we derived seconds derivative manually.\n",
    "Let's make it automatic."
   ]
  }
 ],
 "metadata": {
  "kernelspec": {
   "display_name": "Python [conda env:base] *",
   "language": "python",
   "name": "conda-base-py"
  },
  "language_info": {
   "codemirror_mode": {
    "name": "ipython",
    "version": 3
   },
   "file_extension": ".py",
   "mimetype": "text/x-python",
   "name": "python",
   "nbconvert_exporter": "python",
   "pygments_lexer": "ipython3",
   "version": "3.12.7"
  }
 },
 "nbformat": 4,
 "nbformat_minor": 5
}
