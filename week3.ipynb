{
 "cells": [
  {
   "cell_type": "markdown",
   "id": "dc3f4024",
   "metadata": {},
   "source": [
    "step 1-5"
   ]
  },
  {
   "cell_type": "code",
   "execution_count": 1,
   "id": "9a4a02db",
   "metadata": {},
   "outputs": [],
   "source": [
    "import numpy as np\n",
    "\n",
    "class Variable:\n",
    "    def __init__(self, data):\n",
    "        self.data = data\n",
    "\n",
    "class Function: # only forward propagation is implemented\n",
    "    def __call__(self, input):\n",
    "        x = input.data\n",
    "        y = self.forward(x)\n",
    "        output = Variable(y)\n",
    "        return output\n",
    "\n",
    "def forward(self, x):\n",
    "    raise NotImplementedError()\n",
    "\n",
    "\n",
    "class Square(Function):\n",
    "    def forward(self, x):\n",
    "        return x**2\n",
    "\n",
    "class Exp(Function):\n",
    "    def forward(self, x):\n",
    "        return np.exp(x)\n",
    "\n",
    "def numerical_diff(f, x, eps=1e-4):\n",
    "    x0 = Variable(x.data - eps)\n",
    "    x1 = Variable(x.data + eps)\n",
    "    y0 = f(x0)\n",
    "    y1 = f(x1)\n",
    "    return (y1.data - y0.data)/(2*eps)"
   ]
  },
  {
   "cell_type": "markdown",
   "id": "1a06f60b",
   "metadata": {},
   "source": [
    "step 6"
   ]
  },
  {
   "cell_type": "code",
   "execution_count": 2,
   "id": "20db860c",
   "metadata": {},
   "outputs": [],
   "source": [
    "class Variable:\n",
    "    def __init__(self, data):\n",
    "        self.data = data\n",
    "        self.grad = None # save gradient once forward prop finished"
   ]
  },
  {
   "cell_type": "code",
   "execution_count": 3,
   "id": "66e20126",
   "metadata": {},
   "outputs": [],
   "source": [
    "class Function:\n",
    "    def __call__(self, input):\n",
    "        x = input.data \n",
    "        y = self.forward(x)\n",
    "        output = Variable(y)\n",
    "        self.input = input # save input, being used in backprop\n",
    "        return output\n",
    "    \n",
    "    def forward(self, x): # to be implemented in each subclass that inherits Function class\n",
    "        raise NotImplementedError()\n",
    "        \n",
    "    def backward(self, gy): #  to be implemented in each subclass that inherits Function class\n",
    "        raise NotImplementedError()"
   ]
  },
  {
   "cell_type": "code",
   "execution_count": 4,
   "id": "0b168e1f",
   "metadata": {},
   "outputs": [],
   "source": [
    "class Square(Function): # y = x^2\n",
    "    def forward(self, x):\n",
    "        y = x ** 2\n",
    "        return y\n",
    "    \n",
    "    def backward(self, gy): # toss back dy/dx = 2x\n",
    "        x = self.input.data\n",
    "        gx = 2 * x * gy\n",
    "        return gx"
   ]
  },
  {
   "cell_type": "code",
   "execution_count": 5,
   "id": "438c0fe2",
   "metadata": {},
   "outputs": [],
   "source": [
    "class Exp(Function): # y = e^x\n",
    "    def forward(self, x):\n",
    "        y = np.exp(x)\n",
    "        return y\n",
    "    \n",
    "    def backward(self, gy): # toss back dy/dx = e^x\n",
    "        x = self.input.data\n",
    "        gx = np.exp(x) * gy\n",
    "        return gx"
   ]
  },
  {
   "cell_type": "code",
   "execution_count": 36,
   "id": "730f2b98",
   "metadata": {},
   "outputs": [
    {
     "name": "stdout",
     "output_type": "stream",
     "text": [
      "1.648721270700128\n"
     ]
    }
   ],
   "source": [
    "# Forward prop example\n",
    "\n",
    "A = Square()\n",
    "B = Exp()\n",
    "C = Square()\n",
    "\n",
    "x = Variable(np.array(0.5))\n",
    "a = A(x)\n",
    "b = B(a)\n",
    "y = C(b)\n",
    "\n",
    "#print(y.data)"
   ]
  },
  {
   "cell_type": "code",
   "execution_count": 37,
   "id": "ca01f296",
   "metadata": {},
   "outputs": [
    {
     "name": "stdout",
     "output_type": "stream",
     "text": [
      "3.297442541400256\n"
     ]
    }
   ],
   "source": [
    "# Backward prop example\n",
    "\n",
    "y.grad = np.array(1.0)\n",
    "b.grad = C.backward(y.grad)\n",
    "a.grad = B.backward(b.grad)\n",
    "x.grad = A.backward(a.grad)\n",
    "print(x.grad)\n",
    "\n",
    "# it works but let's go on automation of process (define by run)"
   ]
  },
  {
   "cell_type": "markdown",
   "id": "86174813",
   "metadata": {},
   "source": [
    "Step 7 Automation of back prop (once forward prop is done, procedure of back prop is set automatically)"
   ]
  },
  {
   "cell_type": "code",
   "execution_count": 31,
   "id": "93af39dc",
   "metadata": {},
   "outputs": [],
   "source": [
    "class Variable:\n",
    "    def __init__(self, data):\n",
    "        self.data = data\n",
    "        self.grad = None\n",
    "        self.creator = None # variable to remember its mother\n",
    "\n",
    "    def set_creator(self, func): # method to remember its mother\n",
    "        self.creator = func\n",
    "\n",
    "        \n",
    "class Function: # Function saves its input and output\n",
    "    def __call__(self, input):\n",
    "        x = input.data\n",
    "        y = self.forward(x)\n",
    "        output = Variable(y) # output is the son of a mother, so\n",
    "        output.set_creator(self) # it remembers who is its mother via \"set_creator\" function\n",
    "        \n",
    "        self.input = input\n",
    "        self.output = output\n",
    "        \n",
    "        return output\n",
    "    \n",
    "    def forward(self, x): # will be implemented in each subclass that inherits from the parent class\n",
    "        raise NotImplementedError()\n",
    "        \n",
    "    def backward(self, gy): #  will be implemented in each subclass that inherits from the parent class\n",
    "        raise NotImplementedError()\n",
    "    \n",
    "\n",
    "# In a nutshell, \n",
    "# Function saves input and ouput\n",
    "# output saves Function"
   ]
  },
  {
   "attachments": {
    "image.png": {
     "image/png": "[encoded data removed]"
    }
   },
   "cell_type": "markdown",
   "id": "56c121ec",
   "metadata": {},
   "source": [
    "![image.png](attachment:image.png)"
   ]
  },
  {
   "cell_type": "code",
   "execution_count": 46,
   "id": "c986195e",
   "metadata": {},
   "outputs": [
    {
     "name": "stdout",
     "output_type": "stream",
     "text": [
      "3.297442541400256\n"
     ]
    }
   ],
   "source": [
    "# Structure concept\n",
    "\n",
    "A = Square()\n",
    "B = Exp()\n",
    "C = Square()\n",
    "\n",
    "x = Variable(np.array(0.5))\n",
    "\n",
    "a = A(x)\n",
    "b = B(a)\n",
    "y = C(b)\n",
    "\n",
    "assert y.creator == C\n",
    "assert y.creator.input == b\n",
    "assert y.creator.input.creator == B\n",
    "assert y.creator.input.creator.input == a\n",
    "assert y.creator.input.creator.input.creator == A\n",
    "assert y.creator.input.creator.input.creator.input == x\n",
    "\n",
    "\n",
    "# simple backward prop example\n",
    "\n",
    "# calculate gradient at b from y\n",
    "y.grad = np.array(1.0) # assume gradient at y = 1\n",
    "C = y.creator # y knows its mother function, C\n",
    "b = C.input # C knows its input, b\n",
    "b.grad = C.backward(y.grad) # save gradient at b calculated from C.backward\n",
    "\n",
    "# calculate gradient at a from b\n",
    "B = b.creator\n",
    "a = B.input\n",
    "a.grad = B.backward(b.grad) \n",
    "\n",
    "# calculate gradient at x from a\n",
    "A = a.creator\n",
    "x = A.input\n",
    "x.grad = A.backward(a.grad) \n",
    "\n",
    "print(x.grad)\n",
    "\n",
    "# Still, it's somewhat repititive like B-a-a.grad, A-x-x.grad. Let's make it automatic."
   ]
  },
  {
   "cell_type": "code",
   "execution_count": 53,
   "id": "1b9a469c",
   "metadata": {},
   "outputs": [],
   "source": [
    "import numpy as np\n",
    "\n",
    "\n",
    "class Variable:\n",
    "    def __init__(self, data):\n",
    "        self.data = data\n",
    "        self.grad = None\n",
    "        self.creator = None\n",
    "\n",
    "    def set_creator(self, func):\n",
    "        self.creator = func\n",
    "\n",
    "    def backward(self): # backward function takes three steps in order\n",
    "        f = self.creator  # 1. check who is the mother function\n",
    "        if f is not None:\n",
    "            x = f.input  # 2. mother knows which one is input\n",
    "            x.grad = f.backward(self.grad)  # 3. mother is able to calculate gradient at input\n",
    "            x.backward() # call another backward function until creator==None, which means input==x\n"
   ]
  },
  {
   "cell_type": "code",
   "execution_count": 52,
   "id": "932bff07",
   "metadata": {},
   "outputs": [
    {
     "name": "stdout",
     "output_type": "stream",
     "text": [
      "3.297442541400256\n"
     ]
    }
   ],
   "source": [
    "# example\n",
    "\n",
    "A = Square()\n",
    "B = Exp()\n",
    "C = Square()\n",
    "\n",
    "x = Variable(np.array(0.5))\n",
    "a = A(x)\n",
    "b = B(a)\n",
    "y = C(b)\n",
    "\n",
    "# backprop\n",
    "y.grad = np.array(1.0)\n",
    "y.backward() # it backpropagates till the end, x. We get x.grad.\n",
    "print(x.grad)"
   ]
  },
  {
   "cell_type": "markdown",
   "id": "45e1a082",
   "metadata": {},
   "source": [
    "Step 8"
   ]
  },
  {
   "cell_type": "code",
   "execution_count": 56,
   "id": "a627a385",
   "metadata": {},
   "outputs": [],
   "source": [
    "# we called backward function recursively, backward(backward(backward()))\n",
    "# This time, convert recursive function call to loop structure. why? memory efficiency\n",
    "\n",
    "class Variable:\n",
    "    def __init__(self, data):\n",
    "        self.data = data\n",
    "        self.grad = None\n",
    "        self.creator = None\n",
    "\n",
    "    def set_creator(self, func):\n",
    "        self.creator = func\n",
    "\n",
    "    def backward(self):\n",
    "        funcs = [self.creator] # first, put mother function in the list\n",
    "        while funcs: # while loop instead of recursive function calls\n",
    "            f = funcs.pop() # take out (remove from the list) and save the mother function in f\n",
    "            x, y = f.input, f.output # mother knows both input and output\n",
    "            x.grad = f.backward(y.grad) # calculate gradient at input with gradient at output\n",
    "            \n",
    "            if x.creator is not None: # if we find the mother of current input,\n",
    "                funcs.append(x.creator) # put it in the list and restart the process with it"
   ]
  },
  {
   "cell_type": "code",
   "execution_count": 57,
   "id": "75fea4dc",
   "metadata": {},
   "outputs": [
    {
     "name": "stdout",
     "output_type": "stream",
     "text": [
      "3.297442541400256\n"
     ]
    }
   ],
   "source": [
    "# example\n",
    "\n",
    "A = Square()\n",
    "B = Exp()\n",
    "C = Square()\n",
    "\n",
    "x = Variable(np.array(0.5))\n",
    "a = A(x)\n",
    "b = B(a)\n",
    "y = C(b)\n",
    "\n",
    "# backprop\n",
    "y.grad = np.array(1.0)\n",
    "y.backward() # it backpropagates till the end, x. We get x.grad.\n",
    "print(x.grad)"
   ]
  },
  {
   "cell_type": "markdown",
   "id": "bc963c78",
   "metadata": {},
   "source": [
    "Chapter 9 (make functions deployment and back prop method simple)"
   ]
  },
  {
   "cell_type": "code",
   "execution_count": 58,
   "id": "f077962b",
   "metadata": {},
   "outputs": [],
   "source": [
    "#1. rather than creating an instance and using it, we define extra functions as below:\n",
    "\n",
    "def square(x):\n",
    "    return Square()(x)\n",
    "\n",
    "def exp(x):\n",
    "    return Exp()(x)\n",
    "\n"
   ]
  },
  {
   "cell_type": "code",
   "execution_count": 59,
   "id": "b8e02da5",
   "metadata": {},
   "outputs": [
    {
     "name": "stdout",
     "output_type": "stream",
     "text": [
      "3.297442541400256\n"
     ]
    }
   ],
   "source": [
    "# Now, we can code in simple form.\n",
    "\n",
    "x = Variable(np.array(0.5))\n",
    "a = square(x)\n",
    "b = exp(a)\n",
    "y = square(b)\n",
    "# or even like y = square(exp(square(x)))\n",
    "\n",
    "y.grad = np.array(1.0)\n",
    "y.backward()\n",
    "print(x.grad)"
   ]
  },
  {
   "cell_type": "code",
   "execution_count": 60,
   "id": "19348435",
   "metadata": {},
   "outputs": [],
   "source": [
    "#2. remove y.grad = np.array(1.0)\n",
    "\n",
    "class Variable:\n",
    "    def __init__(self, data):\n",
    "        self.data = data\n",
    "        self.grad = None\n",
    "        self.creator = None\n",
    "\n",
    "    def set_creator(self, func):\n",
    "        self.creator = func\n",
    "\n",
    "    def backward(self):\n",
    "        if self.grad is None: # once backward function is called, set initial output gradient (y_grad) is set to 1(s)\n",
    "            self.grad = np.ones_like(self.data)\n",
    "        \n",
    "        funcs = [self.creator] \n",
    "        while funcs: \n",
    "            f = funcs.pop() \n",
    "            x, y = f.input, f.output \n",
    "            x.grad = f.backward(y.grad) \n",
    "            \n",
    "            if x.creator is not None: \n",
    "                funcs.append(x.creator) "
   ]
  },
  {
   "cell_type": "code",
   "execution_count": 62,
   "id": "41cfbbe9",
   "metadata": {},
   "outputs": [
    {
     "name": "stdout",
     "output_type": "stream",
     "text": [
      "3.297442541400256\n"
     ]
    }
   ],
   "source": [
    "x = Variable(np.array(0.5)) # input\n",
    "y = square(exp(square(x))) # output via forward prop\n",
    "y.backward() # call backward()\n",
    "print(x.grad)"
   ]
  },
  {
   "cell_type": "code",
   "execution_count": 63,
   "id": "7cafb960",
   "metadata": {},
   "outputs": [],
   "source": [
    "# what if user tries to put non-ndarray data into Variable?\n",
    "\n",
    "class Variable:\n",
    "    def __init__(self, data):\n",
    "        if data is not None:\n",
    "            if not isinstance(data, np.ndarray):\n",
    "                raise TypeError('{} is not supported.'.format(type(data)))\n",
    "        \n",
    "        self.data = data\n",
    "        self.grad = None\n",
    "        self.creator = None\n",
    "\n",
    "    def set_creator(self, func):\n",
    "        self.creator = func\n",
    "\n",
    "    def backward(self):\n",
    "        if self.grad is None: \n",
    "            self.grad = np.ones_like(self.data)\n",
    "        \n",
    "        funcs = [self.creator] \n",
    "        while funcs: \n",
    "            f = funcs.pop() \n",
    "            x, y = f.input, f.output \n",
    "            x.grad = f.backward(y.grad) \n",
    "            \n",
    "            if x.creator is not None: \n",
    "                funcs.append(x.creator) "
   ]
  },
  {
   "cell_type": "code",
   "execution_count": 66,
   "id": "75381c83",
   "metadata": {},
   "outputs": [],
   "source": [
    "# example\n",
    "\n",
    "x = Variable(np.array(1.0))\n",
    "x = Variable(None)\n",
    "\n",
    "#x = Variable(1.0) # raise error"
   ]
  },
  {
   "cell_type": "code",
   "execution_count": 70,
   "id": "1d98b94e",
   "metadata": {},
   "outputs": [],
   "source": [
    "# but Python results in float after applying operations on 0-dimension ndarray.\n",
    "# we need to deal with this issue.\n",
    "\n",
    "# for make it easy, define a function\n",
    "\n",
    "def as_array(x):\n",
    "    if np.isscalar(x): # int and float are scalar\n",
    "        return np.arrary(x)\n",
    "    return x\n",
    "\n",
    "class Function: \n",
    "    def __call__(self, input):\n",
    "        x = input.data\n",
    "        y = self.forward(x)\n",
    "        output = Variable(as_array(y))\n",
    "        output.set_creator(self) \n",
    "        \n",
    "        self.input = input\n",
    "        self.output = output\n",
    "        \n",
    "        return output\n",
    "    \n",
    "    def forward(self, x): \n",
    "        raise NotImplementedError()\n",
    "        \n",
    "    def backward(self, gy): \n",
    "        raise NotImplementedError()"
   ]
  },
  {
   "cell_type": "markdown",
   "id": "5e21aa11",
   "metadata": {},
   "source": [
    "Step 10. How to test DL framework?"
   ]
  },
  {
   "cell_type": "code",
   "execution_count": 75,
   "id": "92e25e4d",
   "metadata": {},
   "outputs": [],
   "source": [
    "import unittest\n",
    "\n",
    "class SquareTest(unittest.TestCase):\n",
    "    def test_forward(self): # name of method should begin with 'test'\n",
    "        x = Variable(np.array(2.0))\n",
    "        y = square(x)\n",
    "        expected = np.array(4.0)\n",
    "        self.assertEqual(y.data, expected)\n",
    "        \n",
    "    def test_backward(self):\n",
    "        x = Variable(np.array(3.0))\n",
    "        y = square(x)\n",
    "        y.backward()\n",
    "        expected = np.array(6.0)\n",
    "        self.assertEqual(x.grad, expected)\n",
    "        \n",
    "    def test_gradient_check(self):\n",
    "        x = Variable(np.random.rand(1))\n",
    "        y = square(x)\n",
    "        y.backward()\n",
    "        num_grad = numerical_diff(square, x)\n",
    "        flg = np.allclose(x.grad, num_grad)\n",
    "        self.assertTrue(flg)"
   ]
  },
  {
   "cell_type": "code",
   "execution_count": 73,
   "id": "3a4de84c",
   "metadata": {},
   "outputs": [],
   "source": [
    "# python -m unittest steps/step10.py"
   ]
  },
  {
   "cell_type": "code",
   "execution_count": null,
   "id": "57610d2f",
   "metadata": {},
   "outputs": [],
   "source": []
  }
 ],
 "metadata": {
  "kernelspec": {
   "display_name": "Python 3 (ipykernel)",
   "language": "python",
   "name": "python3"
  },
  "language_info": {
   "codemirror_mode": {
    "name": "ipython",
    "version": 3
   },
   "file_extension": ".py",
   "mimetype": "text/x-python",
   "name": "python",
   "nbconvert_exporter": "python",
   "pygments_lexer": "ipython3",
   "version": "3.9.7"
  }
 },
 "nbformat": 4,
 "nbformat_minor": 5
}
