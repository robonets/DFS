{
 "cells": [
  {
   "cell_type": "markdown",
   "id": "868e5768-68c8-4e3e-9e68-01b08a83f25e",
   "metadata": {},
   "source": [
    "multi-class classification"
   ]
  },
  {
   "cell_type": "code",
   "execution_count": 8,
   "id": "6780b446-bbde-4a03-89af-a396d8ef81d8",
   "metadata": {},
   "outputs": [],
   "source": [
    "import sys\n",
    "import os\n",
    "\n",
    "cwd = os.getcwd()\n",
    "parent_dir = os.path.abspath(os.path.join(cwd, os.pardir))\n",
    "sys.path.append(parent_dir)\n",
    "\n",
    "from dezero.models import MLP\n",
    "\n",
    "model = MLP((10,3))"
   ]
  },
  {
   "cell_type": "code",
   "execution_count": 12,
   "id": "713658e7-2c42-45b9-a281-ca999794d7ac",
   "metadata": {},
   "outputs": [
    {
     "name": "stdout",
     "output_type": "stream",
     "text": [
      "variable([[ 1.40583053  0.24490398 -0.26099893]])\n"
     ]
    }
   ],
   "source": [
    "import numpy as np\n",
    "\n",
    "x = np.array([[0.2, -0.4]])\n",
    "y = model(x)\n",
    "print(y)"
   ]
  },
  {
   "cell_type": "code",
   "execution_count": 14,
   "id": "f8c5f10e-9db7-4c84-8be5-1300a4f31924",
   "metadata": {},
   "outputs": [],
   "source": [
    "# softmax function\n",
    "\n",
    "def softmax1d(x):\n",
    "    x = as_variable(x)\n",
    "    y = F.exp(x)\n",
    "    sum_y = F.sum(y)\n",
    "    return y / sum_y\n"
   ]
  },
  {
   "cell_type": "code",
   "execution_count": 24,
   "id": "46128fe3-2648-4b29-82ee-0d8c54d314c9",
   "metadata": {},
   "outputs": [
    {
     "ename": "NameError",
     "evalue": "name 'as_variable' is not defined",
     "output_type": "error",
     "traceback": [
      "\u001b[0;31m---------------------------------------------------------------------------\u001b[0m",
      "\u001b[0;31mNameError\u001b[0m                                 Traceback (most recent call last)",
      "Cell \u001b[0;32mIn[24], line 15\u001b[0m\n\u001b[1;32m     13\u001b[0m x \u001b[38;5;241m=\u001b[39m Variable(np\u001b[38;5;241m.\u001b[39marray([[\u001b[38;5;241m0.2\u001b[39m, \u001b[38;5;241m-\u001b[39m\u001b[38;5;241m0.4\u001b[39m]]))\n\u001b[1;32m     14\u001b[0m y \u001b[38;5;241m=\u001b[39m model(x)\n\u001b[0;32m---> 15\u001b[0m p \u001b[38;5;241m=\u001b[39m softmax1d(y)\n\u001b[1;32m     16\u001b[0m \u001b[38;5;28mprint\u001b[39m(y)\n\u001b[1;32m     17\u001b[0m \u001b[38;5;28mprint\u001b[39m(p)\n",
      "Cell \u001b[0;32mIn[14], line 4\u001b[0m, in \u001b[0;36msoftmax1d\u001b[0;34m(x)\u001b[0m\n\u001b[1;32m      3\u001b[0m \u001b[38;5;28;01mdef\u001b[39;00m \u001b[38;5;21msoftmax1d\u001b[39m(x):\n\u001b[0;32m----> 4\u001b[0m     x \u001b[38;5;241m=\u001b[39m as_variable(x)\n\u001b[1;32m      5\u001b[0m     y \u001b[38;5;241m=\u001b[39m F\u001b[38;5;241m.\u001b[39mexp(x)\n\u001b[1;32m      6\u001b[0m     sum_y \u001b[38;5;241m=\u001b[39m F\u001b[38;5;241m.\u001b[39msum(y)\n",
      "\u001b[0;31mNameError\u001b[0m: name 'as_variable' is not defined"
     ]
    }
   ],
   "source": [
    "import sys\n",
    "import os\n",
    "\n",
    "cwd = os.getcwd()\n",
    "parent_dir = os.path.abspath(os.path.join(cwd, os.pardir))\n",
    "sys.path.append(parent_dir)\n",
    "\n",
    "import numpy as np\n",
    "from dezero import Variable\n",
    "\n",
    "\n",
    "\n",
    "x = Variable(np.array([[0.2, -0.4]]))\n",
    "y = model(x)\n",
    "p = softmax1d(y)\n",
    "print(y)\n",
    "print(p)"
   ]
  },
  {
   "cell_type": "code",
   "execution_count": 26,
   "id": "7882558b-1dee-4228-bca6-8d5a9fa6b376",
   "metadata": {},
   "outputs": [],
   "source": [
    "def softmax_simple(x, axis=1):\n",
    "    x = as_variable(x)\n",
    "    y = exp(x)\n",
    "    sum_y = sum(y, axis=axis, keepdims=True)\n",
    "    return y / sum_y"
   ]
  },
  {
   "cell_type": "code",
   "execution_count": 30,
   "id": "1be05741-1a13-43c9-9bba-1c14a2b7d7eb",
   "metadata": {},
   "outputs": [],
   "source": [
    "def softmax_cross_entropy_simple(x, t):\n",
    "    x, t = as_variable(x), as_variable(t)\n",
    "    N = x.shape[0]\n",
    "    p = softmax(x)\n",
    "    p = clip(p, 1e-15, 1.0)\n",
    "    log_p = log(p)\n",
    "    tlog_p = log_p[np.arange(N), t.data]\n",
    "    y = -1 * sum(tlog_p) / N\n",
    "    return y"
   ]
  },
  {
   "cell_type": "code",
   "execution_count": 32,
   "id": "eeedcd17-0483-41b6-8e70-e1ed34cf1e56",
   "metadata": {},
   "outputs": [
    {
     "name": "stdout",
     "output_type": "stream",
     "text": [
      "variable(1.1545585232860254)\n"
     ]
    }
   ],
   "source": [
    "x = np.array([[0.2, -0.4], [0.3, 0.5], [1.3, -3.2], [2.1, 0.3]])\n",
    "t = np.array([2, 0, 1, 0])\n",
    "y = model(x)\n",
    "loss = F.softmax_cross_entropy_simple(y, t)\n",
    "\n",
    "print(loss)"
   ]
  },
  {
   "cell_type": "code",
   "execution_count": null,
   "id": "709fb2b1-f886-4d9a-9f8f-595707196a81",
   "metadata": {},
   "outputs": [],
   "source": []
  }
 ],
 "metadata": {
  "kernelspec": {
   "display_name": "Python [conda env:base] *",
   "language": "python",
   "name": "conda-base-py"
  },
  "language_info": {
   "codemirror_mode": {
    "name": "ipython",
    "version": 3
   },
   "file_extension": ".py",
   "mimetype": "text/x-python",
   "name": "python",
   "nbconvert_exporter": "python",
   "pygments_lexer": "ipython3",
   "version": "3.12.7"
  }
 },
 "nbformat": 4,
 "nbformat_minor": 5
}
