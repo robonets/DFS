{
 "cells": [
  {
   "cell_type": "markdown",
   "id": "868e5768-68c8-4e3e-9e68-01b08a83f25e",
   "metadata": {},
   "source": [
    "set up a structure for parameters (Parameter and Layer classes)"
   ]
  },
  {
   "cell_type": "code",
   "execution_count": 3,
   "id": "6780b446-bbde-4a03-89af-a396d8ef81d8",
   "metadata": {},
   "outputs": [
    {
     "ename": "NameError",
     "evalue": "name 'Variable' is not defined",
     "output_type": "error",
     "traceback": [
      "\u001b[0;31m---------------------------------------------------------------------------\u001b[0m",
      "\u001b[0;31mNameError\u001b[0m                                 Traceback (most recent call last)",
      "Cell \u001b[0;32mIn[3], line 3\u001b[0m\n\u001b[1;32m      1\u001b[0m \u001b[38;5;66;03m# Parameter\u001b[39;00m\n\u001b[0;32m----> 3\u001b[0m \u001b[38;5;28;01mclass\u001b[39;00m \u001b[38;5;21;01mParameter\u001b[39;00m(Variable):\n\u001b[1;32m      4\u001b[0m     \u001b[38;5;28;01mpass\u001b[39;00m\n",
      "\u001b[0;31mNameError\u001b[0m: name 'Variable' is not defined"
     ]
    }
   ],
   "source": [
    "# Parameter\n",
    "\n",
    "class Parameter(Variable):\n",
    "    pass"
   ]
  },
  {
   "cell_type": "code",
   "execution_count": 5,
   "id": "f8c5f10e-9db7-4c84-8be5-1300a4f31924",
   "metadata": {},
   "outputs": [
    {
     "name": "stdout",
     "output_type": "stream",
     "text": [
      "True\n",
      "False\n",
      "False\n"
     ]
    }
   ],
   "source": [
    "import sys\n",
    "import os\n",
    "\n",
    "cwd = os.getcwd()\n",
    "parent_dir = os.path.abspath(os.path.join(cwd, os.pardir))\n",
    "sys.path.append(parent_dir)\n",
    "\n",
    "import numpy as np\n",
    "from dezero import Variable, Parameter\n",
    "\n",
    "x = Variable(np.array(1.0))\n",
    "p = Parameter(np.array(2.0))\n",
    "y = x * p\n",
    "\n",
    "print(isinstance(p, Parameter))\n",
    "print(isinstance(x, Parameter))\n",
    "print(isinstance(y, Parameter))\n"
   ]
  },
  {
   "cell_type": "code",
   "execution_count": 7,
   "id": "46128fe3-2648-4b29-82ee-0d8c54d314c9",
   "metadata": {},
   "outputs": [],
   "source": [
    "# Layer \n",
    "\n",
    "from dezero.core import Parameter\n",
    "\n",
    "class Layer:\n",
    "    def __init__(self):\n",
    "        self._params = set()\n",
    "\n",
    "    def __setattr__(self, name, value):\n",
    "        if isinstance(value, Parameter):\n",
    "            self._params.add(name)\n",
    "        super().__setattr__(name, value)"
   ]
  },
  {
   "cell_type": "code",
   "execution_count": 9,
   "id": "c46b9ba8-6309-4f6c-90af-48ab1ca51252",
   "metadata": {},
   "outputs": [
    {
     "name": "stdout",
     "output_type": "stream",
     "text": [
      "{'p2', 'p1'}\n",
      "-------------\n",
      "p2 variable(2)\n",
      "p1 variable(1)\n"
     ]
    }
   ],
   "source": [
    "layer = Layer()\n",
    "\n",
    "layer.p1 = Parameter(np.array(1))\n",
    "layer.p2 = Parameter(np.array(2))\n",
    "layer.p3 = Variable(np.array(3))\n",
    "layer.p4 = 'test'\n",
    "\n",
    "print(layer._params)\n",
    "print('-------------')\n",
    "\n",
    "for name in layer._params:\n",
    "    print(name, layer.__dict__[name])"
   ]
  },
  {
   "cell_type": "code",
   "execution_count": 11,
   "id": "ea16daad-9255-4a8b-82e5-78a0da37168a",
   "metadata": {},
   "outputs": [],
   "source": [
    "class Layer:\n",
    "    def __init__(self):\n",
    "        self._params = set()\n",
    "\n",
    "    def __setattr__(self, name, value):\n",
    "        if isinstance(value, Parameter):\n",
    "            self._params.add(name)\n",
    "        super().__setattr__(name, value)\n",
    "\n",
    "    def __call__(self, *inputs):\n",
    "        outputs = self.forward(*inputs)\n",
    "        if not isinstance(outputs, tuple):\n",
    "            outputs = (outputs,)\n",
    "        self.inputs = [weakref.ref(x) for x in inputs]\n",
    "        self.outputs = [weakref.ref(y) for y in outputs]\n",
    "        return outputs if len(outputs) > 1 else outputs[0]\n",
    "\n",
    "    def forward(self, inputs):\n",
    "        raise NotImplementedError()\n",
    "\n",
    "    def params(self):\n",
    "        for name in self._params:\n",
    "            yield self.__dict__[name]\n",
    "\n",
    "    def cleargrads(self):\n",
    "        for param in self.params():\n",
    "            param.cleargrad()"
   ]
  },
  {
   "cell_type": "code",
   "execution_count": 15,
   "id": "08171ba4-84c7-40ee-9c94-10a3fc88a091",
   "metadata": {},
   "outputs": [],
   "source": [
    "import numpy as np\n",
    "import dezero.functions as F\n",
    "from dezero.core import Parameter\n",
    "\n",
    "class Linear(Layer):\n",
    "    def __init__(self, in_size, out_size, nobiad=False, dtype=np.float32):\n",
    "        super().__init__()\n",
    "\n",
    "        I, O = in_size, out_size\n",
    "        W_data = np.random.randn(I, O).astype(dtype) * np.sqrt(1/I)\n",
    "        self.W = Parameter(W_data, name='W')\n",
    "        if nobias:\n",
    "            self.b = None\n",
    "        else:\n",
    "            self.b = Parameter(np.zeros(0, dtype=dtype), name='b')\n",
    "\n",
    "    def forward(self, x):\n",
    "        y = F.linear(x, self.W, self.b)\n",
    "        return y"
   ]
  },
  {
   "cell_type": "code",
   "execution_count": 21,
   "id": "a3a72797-0845-4e54-916b-4b8afca4f97a",
   "metadata": {},
   "outputs": [],
   "source": [
    "# improve Linear class\n",
    "# automatically size in_size\n",
    "\n",
    "import numpy as np\n",
    "import dezero.functions as F\n",
    "from dezero.core import Parameter\n",
    "\n",
    "class Linear(Layer):\n",
    "    def __init__(self, out_size, nobias=False, dtype=np.float32, in_size=None):\n",
    "        super().__init__()\n",
    "        self.in_size = in_size\n",
    "        self.out_size = out_size\n",
    "        self.dtype = dtype\n",
    "\n",
    "        self.W = Parameter(W_data, name='W')\n",
    "        if self.in_size is not None:\n",
    "            self._init_W()\n",
    "\n",
    "        if nobias:\n",
    "            self.b = None\n",
    "        else:\n",
    "            self.b = Parameter(np.zeros(0, dtype=dtype), name='b')\n",
    "\n",
    "    def _init_W(self):\n",
    "        I, O = in_size, out_size\n",
    "        W_data = np.random.randn(I, O).astype(dtype) * np.sqrt(1/I)\n",
    "        self.W.data = W_data\n",
    "        \n",
    "    def forward(self, x):\n",
    "        if self.W.data is None:\n",
    "            self.in_size = x.shape[1]\n",
    "            self._init_W()\n",
    "        \n",
    "        y = F.linear(x, self.W, self.b)\n",
    "        return y"
   ]
  },
  {
   "cell_type": "code",
   "execution_count": 25,
   "id": "15a27c09-efd3-4ebc-afe6-cf51e20757da",
   "metadata": {},
   "outputs": [
    {
     "name": "stdout",
     "output_type": "stream",
     "text": [
      "variable(0.8165178492839196)\n",
      "variable(0.24990280802148895)\n",
      "variable(0.24609876581126008)\n",
      "variable(0.2372159081431807)\n",
      "variable(0.20793216413350174)\n",
      "variable(0.12311905720649355)\n",
      "variable(0.07888166506355146)\n",
      "variable(0.07655073683421637)\n",
      "variable(0.0763780308623822)\n",
      "variable(0.07618764131185567)\n"
     ]
    }
   ],
   "source": [
    "import sys\n",
    "import os\n",
    "\n",
    "cwd = os.getcwd()\n",
    "parent_dir = os.path.abspath(os.path.join(cwd, os.pardir))\n",
    "sys.path.append(parent_dir)\n",
    "\n",
    "import numpy as np\n",
    "from dezero import Variable\n",
    "import dezero.functions as F\n",
    "import dezero.layers as L\n",
    "\n",
    "np.random.seed(0)\n",
    "x = np.random.rand(100,1)\n",
    "y = np.sin(2*np.pi*x) + np.random.rand(100,1)\n",
    "\n",
    "l1 = L.Linear(10)\n",
    "l2 = L.Linear(1)\n",
    "\n",
    "def predict(x):\n",
    "    y = l1(x)\n",
    "    y = F.sigmoid(y)\n",
    "    y = l2(y)\n",
    "    return y\n",
    "\n",
    "\n",
    "lr = 0.2\n",
    "iters = 10000\n",
    "\n",
    "for i in range(iters):\n",
    "    y_pred = predict(x)\n",
    "    loss = F.mean_squared_error(y, y_pred)\n",
    "\n",
    "    l1.cleargrads()\n",
    "    l2.cleargrads()\n",
    "    loss.backward()\n",
    "\n",
    "    for l in [l1, l2]:\n",
    "        for p in l.params():\n",
    "            p.data -= lr * p.grad.data\n",
    "    if i % 1000 == 0:\n",
    "        print(loss)\n"
   ]
  },
  {
   "cell_type": "code",
   "execution_count": null,
   "id": "9e9cbb0c-52b0-471f-a354-2147c4006139",
   "metadata": {},
   "outputs": [],
   "source": []
  }
 ],
 "metadata": {
  "kernelspec": {
   "display_name": "Python [conda env:base] *",
   "language": "python",
   "name": "conda-base-py"
  },
  "language_info": {
   "codemirror_mode": {
    "name": "ipython",
    "version": 3
   },
   "file_extension": ".py",
   "mimetype": "text/x-python",
   "name": "python",
   "nbconvert_exporter": "python",
   "pygments_lexer": "ipython3",
   "version": "3.12.7"
  }
 },
 "nbformat": 4,
 "nbformat_minor": 5
}
