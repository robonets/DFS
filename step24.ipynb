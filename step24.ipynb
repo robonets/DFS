{
 "cells": [
  {
   "cell_type": "markdown",
   "id": "fef36cff-7c4e-425e-ae9c-d80111aa41d7",
   "metadata": {},
   "source": [
    "test functions for optimization"
   ]
  },
  {
   "cell_type": "code",
   "execution_count": 15,
   "id": "806d844d-7599-42ef-8e7c-12ce4c912f8c",
   "metadata": {},
   "outputs": [
    {
     "name": "stdout",
     "output_type": "stream",
     "text": [
      "variable(2.0) variable(2.0)\n"
     ]
    }
   ],
   "source": [
    "# example: sphere function\n",
    "\n",
    "import os\n",
    "import sys\n",
    "# Get the current working directory (should be Documents/DLS3/steps)\n",
    "cwd = os.getcwd()\n",
    "\n",
    "# The parent directory of cwd (Documents/DLS3)\n",
    "parent_dir = os.path.abspath(os.path.join(cwd, os.pardir))\n",
    "sys.path.append(parent_dir)\n",
    "    \n",
    "import numpy as np\n",
    "from dezero import Variable\n",
    "\n",
    "def sphere(x, y):\n",
    "    z = x**2 + y**2\n",
    "    return z\n",
    "\n",
    "x = Variable(np.array(1.0))\n",
    "y = Variable(np.array(1.0))\n",
    "z = sphere(x,y)\n",
    "z.backward()\n",
    "print(x.grad, y.grad)"
   ]
  },
  {
   "cell_type": "code",
   "execution_count": 17,
   "id": "a5e01d94-36c1-43d6-b2ff-a8a9c5589796",
   "metadata": {},
   "outputs": [
    {
     "name": "stdout",
     "output_type": "stream",
     "text": [
      "variable(0.040000000000000036) variable(0.040000000000000036)\n"
     ]
    }
   ],
   "source": [
    "# example: matyas\n",
    "\n",
    "def matyas(x, y):\n",
    "    z = 0.26 * (x**2 + y**2) - 0.48 * x * y\n",
    "    return z\n",
    "\n",
    "x = Variable(np.array(1.0))\n",
    "y = Variable(np.array(1.0))\n",
    "z = matyas(x,y)\n",
    "z.backward()\n",
    "print(x.grad, y.grad)"
   ]
  },
  {
   "cell_type": "code",
   "execution_count": 23,
   "id": "71426d33-f05e-4c38-a23f-5111debaf5b3",
   "metadata": {},
   "outputs": [
    {
     "name": "stdout",
     "output_type": "stream",
     "text": [
      "variable(-5376.0) variable(8064.0)\n"
     ]
    }
   ],
   "source": [
    "# example: Goldstein-Price\n",
    "\n",
    "def goldstein(x, y):\n",
    "    z = (1 + (x + y + 1)**2 * (19-14*x+3*x**2-14*y+6*x*y+3*y**2)) * (30+(2*x-3*y)**2*(18-32*x+12*x**2+48*y-36*x*y+27*y**2))\n",
    "    return z\n",
    "\n",
    "x = Variable(np.array(1.0))\n",
    "y = Variable(np.array(1.0))\n",
    "z = goldstein(x,y)\n",
    "z.backward()\n",
    "print(x.grad, y.grad)"
   ]
  },
  {
   "cell_type": "markdown",
   "id": "cb53d0c9-c85a-4061-b55b-3b620f71493b",
   "metadata": {},
   "source": [
    "Now, let's move on to higher order derivative"
   ]
  },
  {
   "cell_type": "code",
   "execution_count": null,
   "id": "4aa91dbe-af9d-4927-b030-98e98e909834",
   "metadata": {},
   "outputs": [],
   "source": []
  }
 ],
 "metadata": {
  "kernelspec": {
   "display_name": "Python [conda env:base] *",
   "language": "python",
   "name": "conda-base-py"
  },
  "language_info": {
   "codemirror_mode": {
    "name": "ipython",
    "version": 3
   },
   "file_extension": ".py",
   "mimetype": "text/x-python",
   "name": "python",
   "nbconvert_exporter": "python",
   "pygments_lexer": "ipython3",
   "version": "3.12.7"
  }
 },
 "nbformat": 4,
 "nbformat_minor": 5
}
