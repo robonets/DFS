{
 "cells": [
  {
   "cell_type": "markdown",
   "id": "868e5768-68c8-4e3e-9e68-01b08a83f25e",
   "metadata": {},
   "source": [
    "MNIST"
   ]
  },
  {
   "cell_type": "code",
   "execution_count": 1,
   "id": "ea6a7db0-85cc-49c2-b12b-457ba1c24c34",
   "metadata": {},
   "outputs": [
    {
     "name": "stdout",
     "output_type": "stream",
     "text": [
      "Downloading: train-images-idx3-ubyte.gz\n",
      "[##############################] 100.00% Done\n",
      "Downloading: train-labels-idx1-ubyte.gz\n",
      "[##############################] 100.00% Done\n",
      "Downloading: t10k-images-idx3-ubyte.gz\n",
      "[##############################] 100.00% Done\n",
      "Downloading: t10k-labels-idx1-ubyte.gz\n",
      "[##############################] 100.00% Done\n",
      "60000\n",
      "10000\n"
     ]
    }
   ],
   "source": [
    "import sys\n",
    "import os\n",
    "\n",
    "cwd = os.getcwd()\n",
    "parent_dir = os.path.abspath(os.path.join(cwd, os.pardir))\n",
    "sys.path.append(parent_dir)\n",
    "\n",
    "\n",
    "import dezero\n",
    "\n",
    "train_set = dezero.datasets.MNIST(train=True, transform=None)\n",
    "test_set = dezero.datasets.MNIST(train=False, transform=None)\n",
    "\n",
    "print(len(train_set))\n",
    "print(len(test_set))\n"
   ]
  },
  {
   "cell_type": "code",
   "execution_count": 3,
   "id": "9f6007bf-0e8f-498f-9eeb-768480fa3531",
   "metadata": {},
   "outputs": [
    {
     "name": "stdout",
     "output_type": "stream",
     "text": [
      "<class 'numpy.ndarray'> (1, 28, 28)\n",
      "5\n"
     ]
    }
   ],
   "source": [
    "x, t = train_set[0]\n",
    "print(type(x), x.shape)\n",
    "print(t)"
   ]
  },
  {
   "cell_type": "code",
   "execution_count": 5,
   "id": "6780b446-bbde-4a03-89af-a396d8ef81d8",
   "metadata": {},
   "outputs": [
    {
     "data": {
      "image/png": "[encoded data removed]",
      "text/plain": [
       "<Figure size 640x480 with 1 Axes>"
      ]
     },
     "metadata": {},
     "output_type": "display_data"
    },
    {
     "name": "stdout",
     "output_type": "stream",
     "text": [
      "label: 5\n"
     ]
    }
   ],
   "source": [
    "import matplotlib.pyplot as plt\n",
    "\n",
    "x, t = train_set[0]\n",
    "plt.imshow(x.reshape(28, 28), cmap='gray')\n",
    "plt.axis('off')\n",
    "plt.show()\n",
    "print('label:', t)"
   ]
  },
  {
   "cell_type": "code",
   "execution_count": 7,
   "id": "713658e7-2c42-45b9-a281-ca999794d7ac",
   "metadata": {},
   "outputs": [],
   "source": [
    "def f(x):\n",
    "    x = x.flatten()\n",
    "    x = x.astype(np.float32)\n",
    "    x /= 255.0\n",
    "    return x\n",
    "\n",
    "\n",
    "train_set = dezero.datasets.MNIST(train=True, transform=f)\n",
    "test_set = dezero.datasets.MNIST(train=False, transform=f)"
   ]
  },
  {
   "cell_type": "code",
   "execution_count": 13,
   "id": "7e181640-2d7c-43fc-9e8c-2a0bee1ff7bb",
   "metadata": {},
   "outputs": [
    {
     "name": "stdout",
     "output_type": "stream",
     "text": [
      "epoch: 1\n",
      "train loss: 1.9019, accuracy: 0.5603\n",
      "test loss: 1.5245, accuracy: 0.7425\n",
      "epoch: 2\n",
      "train loss: 1.2755, accuracy: 0.7703\n",
      "test loss: 1.0379, accuracy: 0.8136\n",
      "epoch: 3\n",
      "train loss: 0.9216, accuracy: 0.8188\n",
      "test loss: 0.7915, accuracy: 0.8359\n",
      "epoch: 4\n",
      "train loss: 0.7390, accuracy: 0.8407\n",
      "test loss: 0.6553, accuracy: 0.8578\n",
      "epoch: 5\n",
      "train loss: 0.6347, accuracy: 0.8545\n",
      "test loss: 0.5756, accuracy: 0.8696\n"
     ]
    }
   ],
   "source": [
    "from dezero import DataLoader\n",
    "import dezero\n",
    "import dezero.functions as F\n",
    "from dezero.models import MLP\n",
    "from dezero import optimizers\n",
    "\n",
    "max_epoch = 5\n",
    "batch_size = 100\n",
    "hidden_size = 1000\n",
    "\n",
    "train_set = dezero.datasets.MNIST(train=True)\n",
    "test_set = dezero.datasets.MNIST(train=False)\n",
    "train_loader = DataLoader(train_set, batch_size)\n",
    "test_loader = DataLoader(test_set, batch_size, shuffle=False)\n",
    "\n",
    "model = MLP((hidden_size, 10))\n",
    "optimizer = optimizers.SGD().setup(model)\n",
    "#model = MLP((hidden_size, hidden_size, 10), activation=F.relu)\n",
    "#optimizer = optimizers.Adam().setup(model)\n",
    "\n",
    "for epoch in range(max_epoch):\n",
    "    sum_loss, sum_acc = 0, 0\n",
    "\n",
    "    for x, t in train_loader:\n",
    "        y = model(x)\n",
    "        loss = F.softmax_cross_entropy(y, t)\n",
    "        acc = F.accuracy(y, t)\n",
    "        model.cleargrads()\n",
    "        loss.backward()\n",
    "        optimizer.update()\n",
    "\n",
    "        sum_loss += float(loss.data) * len(t)\n",
    "        sum_acc += float(acc.data) * len(t)\n",
    "\n",
    "    print('epoch: {}'.format(epoch+1))\n",
    "    print('train loss: {:.4f}, accuracy: {:.4f}'.format(\n",
    "        sum_loss / len(train_set), sum_acc / len(train_set)))\n",
    "\n",
    "    sum_loss, sum_acc = 0, 0\n",
    "    with dezero.no_grad():\n",
    "        for x, t in test_loader:\n",
    "            y = model(x)\n",
    "            loss = F.softmax_cross_entropy(y, t)\n",
    "            acc = F.accuracy(y, t)\n",
    "            sum_loss += float(loss.data) * len(t)\n",
    "            sum_acc += float(acc.data) * len(t)\n",
    "\n",
    "    print('test loss: {:.4f}, accuracy: {:.4f}'.format(\n",
    "        sum_loss / len(test_set), sum_acc / len(test_set)))"
   ]
  },
  {
   "cell_type": "code",
   "execution_count": 17,
   "id": "39ce3806-161b-44a1-b2b2-5f82012d5893",
   "metadata": {},
   "outputs": [
    {
     "ename": "NameError",
     "evalue": "name 'Function' is not defined",
     "output_type": "error",
     "traceback": [
      "\u001b[0;31m---------------------------------------------------------------------------\u001b[0m",
      "\u001b[0;31mNameError\u001b[0m                                 Traceback (most recent call last)",
      "Cell \u001b[0;32mIn[17], line 1\u001b[0m\n\u001b[0;32m----> 1\u001b[0m \u001b[38;5;28;01mclass\u001b[39;00m \u001b[38;5;21;01mReLU\u001b[39;00m(Function):\n\u001b[1;32m      2\u001b[0m     \u001b[38;5;28;01mdef\u001b[39;00m \u001b[38;5;21mforward\u001b[39m(\u001b[38;5;28mself\u001b[39m, x):\n\u001b[1;32m      3\u001b[0m         y \u001b[38;5;241m=\u001b[39m xp\u001b[38;5;241m.\u001b[39mmaximum(x, \u001b[38;5;241m0.0\u001b[39m)\n",
      "\u001b[0;31mNameError\u001b[0m: name 'Function' is not defined"
     ]
    }
   ],
   "source": [
    "class ReLU(Function):\n",
    "    def forward(self, x):\n",
    "        y = xp.maximum(x, 0.0)\n",
    "        return y\n",
    "\n",
    "    def backward(self, gy):\n",
    "        x, = self.inputs\n",
    "        mask = x.data > 0\n",
    "        gx = gy * mask\n",
    "        return gx"
   ]
  },
  {
   "cell_type": "code",
   "execution_count": 19,
   "id": "26ade7b6-8201-4be3-9e2b-1218a76c30ce",
   "metadata": {},
   "outputs": [],
   "source": [
    "model = MLP((hidden_size, hidden_size, 10), activation=F.relu)"
   ]
  },
  {
   "cell_type": "code",
   "execution_count": 21,
   "id": "d276b351-0008-4469-9ad4-7a213a410262",
   "metadata": {},
   "outputs": [
    {
     "name": "stdout",
     "output_type": "stream",
     "text": [
      "epoch: 1\n",
      "train loss: 0.4073, accuracy: 0.8883\n",
      "test loss: 0.2460, accuracy: 0.9279\n",
      "epoch: 2\n",
      "train loss: 0.2258, accuracy: 0.9342\n",
      "test loss: 0.1896, accuracy: 0.9429\n",
      "epoch: 3\n",
      "train loss: 0.1658, accuracy: 0.9521\n",
      "test loss: 0.1406, accuracy: 0.9570\n",
      "epoch: 4\n",
      "train loss: 0.1251, accuracy: 0.9633\n",
      "test loss: 0.1119, accuracy: 0.9668\n",
      "epoch: 5\n",
      "train loss: 0.0963, accuracy: 0.9717\n",
      "test loss: 0.1059, accuracy: 0.9681\n"
     ]
    }
   ],
   "source": [
    "from dezero import DataLoader\n",
    "import dezero\n",
    "import dezero.functions as F\n",
    "from dezero.models import MLP\n",
    "from dezero import optimizers\n",
    "\n",
    "max_epoch = 5\n",
    "batch_size = 100\n",
    "hidden_size = 1000\n",
    "\n",
    "train_set = dezero.datasets.MNIST(train=True)\n",
    "test_set = dezero.datasets.MNIST(train=False)\n",
    "train_loader = DataLoader(train_set, batch_size)\n",
    "test_loader = DataLoader(test_set, batch_size, shuffle=False)\n",
    "\n",
    "model = MLP((hidden_size, 10))\n",
    "optimizer = optimizers.Adam().setup(model)\n",
    "#model = MLP((hidden_size, hidden_size, 10), activation=F.relu)\n",
    "#optimizer = optimizers.Adam().setup(model)\n",
    "\n",
    "for epoch in range(max_epoch):\n",
    "    sum_loss, sum_acc = 0, 0\n",
    "\n",
    "    for x, t in train_loader:\n",
    "        y = model(x)\n",
    "        loss = F.softmax_cross_entropy(y, t)\n",
    "        acc = F.accuracy(y, t)\n",
    "        model.cleargrads()\n",
    "        loss.backward()\n",
    "        optimizer.update()\n",
    "\n",
    "        sum_loss += float(loss.data) * len(t)\n",
    "        sum_acc += float(acc.data) * len(t)\n",
    "\n",
    "    print('epoch: {}'.format(epoch+1))\n",
    "    print('train loss: {:.4f}, accuracy: {:.4f}'.format(\n",
    "        sum_loss / len(train_set), sum_acc / len(train_set)))\n",
    "\n",
    "    sum_loss, sum_acc = 0, 0\n",
    "    with dezero.no_grad():\n",
    "        for x, t in test_loader:\n",
    "            y = model(x)\n",
    "            loss = F.softmax_cross_entropy(y, t)\n",
    "            acc = F.accuracy(y, t)\n",
    "            sum_loss += float(loss.data) * len(t)\n",
    "            sum_acc += float(acc.data) * len(t)\n",
    "\n",
    "    print('test loss: {:.4f}, accuracy: {:.4f}'.format(\n",
    "        sum_loss / len(test_set), sum_acc / len(test_set)))"
   ]
  },
  {
   "cell_type": "code",
   "execution_count": null,
   "id": "46459cdb-1c96-4bfd-ad29-50fdd2312f67",
   "metadata": {},
   "outputs": [],
   "source": []
  }
 ],
 "metadata": {
  "kernelspec": {
   "display_name": "Python [conda env:base] *",
   "language": "python",
   "name": "conda-base-py"
  },
  "language_info": {
   "codemirror_mode": {
    "name": "ipython",
    "version": 3
   },
   "file_extension": ".py",
   "mimetype": "text/x-python",
   "name": "python",
   "nbconvert_exporter": "python",
   "pygments_lexer": "ipython3",
   "version": "3.12.7"
  }
 },
 "nbformat": 4,
 "nbformat_minor": 5
}
