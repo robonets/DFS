{
 "cells": [
  {
   "cell_type": "markdown",
   "id": "dc3f4024",
   "metadata": {},
   "source": [
    "step 1-5"
   ]
  },
  {
   "cell_type": "code",
   "execution_count": 2,
   "id": "9a4a02db",
   "metadata": {},
   "outputs": [],
   "source": [
    "import numpy as np\n",
    "\n",
    "class Variable:\n",
    "    def __init__(self, data):\n",
    "        self.data = data\n",
    "\n",
    "class Function: # only forward propagation is implemented\n",
    "    def __call__(self, input):\n",
    "        x = input.data\n",
    "        y = self.forward(x)\n",
    "        output = Variable(y)\n",
    "        return output\n",
    "\n",
    "def forward(self, x):\n",
    "    raise NotImplementedError()\n",
    "\n",
    "\n",
    "class Square(Function):\n",
    "    def forward(self, x):\n",
    "        return x**2\n",
    "\n",
    "class Exp(Function):\n",
    "    def forward(self, x):\n",
    "        return np.exp(x)\n",
    "\n",
    "def numerical_diff(f, x, eps=1e-4):\n",
    "    x0 = Variable(x.data - eps)\n",
    "    x1 = Variable(x.data + eps)\n",
    "    y0 = f(x0)\n",
    "    y1 = f(x1)\n",
    "    return (y1.data - y0.data)/(2*eps)"
   ]
  },
  {
   "cell_type": "markdown",
   "id": "1a06f60b",
   "metadata": {},
   "source": [
    "step 6"
   ]
  },
  {
   "cell_type": "code",
   "execution_count": 4,
   "id": "20db860c",
   "metadata": {},
   "outputs": [],
   "source": [
    "class Variable:\n",
    "    def __init__(self, data):\n",
    "        self.data = data\n",
    "        self.grad = None # save gradient once forward prop finished"
   ]
  },
  {
   "cell_type": "code",
   "execution_count": 5,
   "id": "66e20126",
   "metadata": {},
   "outputs": [],
   "source": [
    "class Function:\n",
    "    def __call__(self, input):\n",
    "        x = input.data \n",
    "        y = self.forward(x)\n",
    "        output = Variable(y)\n",
    "        self.input = input # save input, being used in backprop\n",
    "        return output\n",
    "    \n",
    "    def forward(self, x): # to be implemented in each subclass that inherits Function class\n",
    "        raise NotImplementedError()\n",
    "        \n",
    "    def backward(self, gy): #  to be implemented in each subclass that inherits Function class\n",
    "        raise NotImplementedError()"
   ]
  },
  {
   "cell_type": "code",
   "execution_count": 6,
   "id": "0b168e1f",
   "metadata": {},
   "outputs": [],
   "source": [
    "class Square(Function): # y = x^2\n",
    "    def forward(self, x):\n",
    "        y = x ** 2\n",
    "        return y\n",
    "    \n",
    "    def backward(self, gy): # toss back dy/dx = 2x\n",
    "        x = self.input.data\n",
    "        gx = 2 * x * gy\n",
    "        return gx"
   ]
  },
  {
   "cell_type": "code",
   "execution_count": 7,
   "id": "438c0fe2",
   "metadata": {},
   "outputs": [],
   "source": [
    "class Exp(Function): # y = e^x\n",
    "    def forward(self, x):\n",
    "        y = np.exp(x)\n",
    "        return y\n",
    "    \n",
    "    def backward(self, gy): # toss back dy/dx = e^x\n",
    "        x = self.input.data\n",
    "        gx = np.exp(x) * gy\n",
    "        return gx"
   ]
  },
  {
   "cell_type": "code",
   "execution_count": 8,
   "id": "730f2b98",
   "metadata": {},
   "outputs": [],
   "source": [
    "# Forward prop example\n",
    "\n",
    "A = Square()\n",
    "B = Exp()\n",
    "C = Square()\n",
    "\n",
    "x = Variable(np.array(0.5))\n",
    "a = A(x)\n",
    "b = B(a)\n",
    "y = C(b)\n",
    "\n",
    "#print(y.data)"
   ]
  },
  {
   "cell_type": "code",
   "execution_count": 9,
   "id": "ca01f296",
   "metadata": {},
   "outputs": [
    {
     "name": "stdout",
     "output_type": "stream",
     "text": [
      "3.297442541400256\n"
     ]
    }
   ],
   "source": [
    "# Backward prop example\n",
    "\n",
    "y.grad = np.array(1.0)\n",
    "b.grad = C.backward(y.grad)\n",
    "a.grad = B.backward(b.grad)\n",
    "x.grad = A.backward(a.grad)\n",
    "print(x.grad)\n",
    "\n",
    "# it works but let's go on automation of process (define by run)"
   ]
  },
  {
   "cell_type": "markdown",
   "id": "86174813",
   "metadata": {},
   "source": [
    "Step 7 Automation of back prop (once forward prop is done, procedure of back prop is set automatically)"
   ]
  },
  {
   "cell_type": "code",
   "execution_count": 11,
   "id": "93af39dc",
   "metadata": {},
   "outputs": [],
   "source": [
    "class Variable:\n",
    "    def __init__(self, data):\n",
    "        self.data = data\n",
    "        self.grad = None\n",
    "        self.creator = None # variable to remember its mother\n",
    "\n",
    "    def set_creator(self, func): # method to remember its mother\n",
    "        self.creator = func\n",
    "\n",
    "        \n",
    "class Function: # Function saves its input and output\n",
    "    def __call__(self, input):\n",
    "        x = input.data\n",
    "        y = self.forward(x)\n",
    "        output = Variable(y) # output is the son of a mother, so\n",
    "        output.set_creator(self) # it remembers who is its mother via \"set_creator\" function\n",
    "        \n",
    "        self.input = input\n",
    "        self.output = output\n",
    "        \n",
    "        return output\n",
    "    \n",
    "    def forward(self, x): # will be implemented in each subclass that inherits from the parent class\n",
    "        raise NotImplementedError()\n",
    "        \n",
    "    def backward(self, gy): #  will be implemented in each subclass that inherits from the parent class\n",
    "        raise NotImplementedError()\n",
    "    \n",
    "\n",
    "# In a nutshell, \n",
    "# Function saves input and ouput\n",
    "# output saves Function"
   ]
  },
  {
   "attachments": {
    "image.png": {
     "image/png": "[encoded data removed]"
    }
   },
   "cell_type": "markdown",
   "id": "56c121ec",
   "metadata": {},
   "source": [
    "![image.png](attachment:image.png)"
   ]
  },
  {
   "cell_type": "code",
   "execution_count": 37,
   "id": "c986195e",
   "metadata": {},
   "outputs": [
    {
     "data": {
      "text/plain": [
       "\"\\nassert y.creator == C\\nassert y.creator.input == b\\nassert y.creator.input.creator == B\\nassert y.creator.input.creator.input == a\\nassert y.creator.input.creator.input.creator == A\\nassert y.creator.input.creator.input.creator.input == x\\n\\n\\n# simple backward prop example\\n\\n# calculate gradient at b from y\\ny.grad = np.array(1.0) # assume gradient at y = 1\\nC = y.creator # y knows its mother function, C\\nb = C.input # C knows its input, b\\nb.grad = C.backward(y.grad) # save gradient at b calculated from C.backward\\n\\n# calculate gradient at a from b\\nB = b.creator\\na = B.input\\na.grad = B.backward(b.grad) \\n\\n# calculate gradient at x from a\\nA = a.creator\\nx = A.input\\nx.grad = A.backward(a.grad) \\n\\nprint(x.grad)\\n\\n# Still, it's somewhat repititive like B-a-a.grad, A-x-x.grad. Let's make it automatic.\\n\""
      ]
     },
     "execution_count": 37,
     "metadata": {},
     "output_type": "execute_result"
    }
   ],
   "source": [
    "# Structure concept\n",
    "\n",
    "A = Square()\n",
    "B = Exp()\n",
    "C = Square()\n",
    "\n",
    "x = Variable(np.array(0.5))\n",
    "\n",
    "a = A(x)\n",
    "b = B(a)\n",
    "y = C(b)\n",
    "\n",
    "\"\"\"\n",
    "assert y.creator == C\n",
    "assert y.creator.input == b\n",
    "assert y.creator.input.creator == B\n",
    "assert y.creator.input.creator.input == a\n",
    "assert y.creator.input.creator.input.creator == A\n",
    "assert y.creator.input.creator.input.creator.input == x\n",
    "\n",
    "\n",
    "# simple backward prop example\n",
    "\n",
    "# calculate gradient at b from y\n",
    "y.grad = np.array(1.0) # assume gradient at y = 1\n",
    "C = y.creator # y knows its mother function, C\n",
    "b = C.input # C knows its input, b\n",
    "b.grad = C.backward(y.grad) # save gradient at b calculated from C.backward\n",
    "\n",
    "# calculate gradient at a from b\n",
    "B = b.creator\n",
    "a = B.input\n",
    "a.grad = B.backward(b.grad) \n",
    "\n",
    "# calculate gradient at x from a\n",
    "A = a.creator\n",
    "x = A.input\n",
    "x.grad = A.backward(a.grad) \n",
    "\n",
    "print(x.grad)\n",
    "\n",
    "# Still, it's somewhat repititive like B-a-a.grad, A-x-x.grad. Let's make it automatic.\n",
    "\"\"\""
   ]
  },
  {
   "cell_type": "code",
   "execution_count": 39,
   "id": "1b9a469c",
   "metadata": {},
   "outputs": [],
   "source": [
    "import numpy as np\n",
    "\n",
    "\n",
    "class Variable:\n",
    "    def __init__(self, data):\n",
    "        self.data = data\n",
    "        self.grad = None\n",
    "        self.creator = None\n",
    "\n",
    "    def set_creator(self, func):\n",
    "        self.creator = func\n",
    "\n",
    "    def backward(self): # backward function takes three steps in order\n",
    "        f = self.creator  # 1. check who is the mother function\n",
    "        if f is not None:\n",
    "            x = f.input  # 2. mother knows which one is input\n",
    "            x.grad = f.backward(self.grad)  # 3. mother is able to calculate gradient at input\n",
    "            x.backward() # call another backward function until creator==None, which means input==x\n"
   ]
  },
  {
   "cell_type": "code",
   "execution_count": 41,
   "id": "932bff07",
   "metadata": {},
   "outputs": [
    {
     "name": "stdout",
     "output_type": "stream",
     "text": [
      "None\n"
     ]
    }
   ],
   "source": [
    "# example\n",
    "\n",
    "A = Square()\n",
    "B = Exp()\n",
    "C = Square()\n",
    "\n",
    "x = Variable(np.array(0.5))\n",
    "a = A(x)\n",
    "b = B(a)\n",
    "y = C(b)\n",
    "\n",
    "# backprop\n",
    "y.grad = np.array(1.0)\n",
    "y.backward() # it backpropagates till the end, x. We get x.grad.\n",
    "print(x.grad)"
   ]
  },
  {
   "cell_type": "markdown",
   "id": "45e1a082",
   "metadata": {},
   "source": [
    "Step 8"
   ]
  },
  {
   "cell_type": "code",
   "execution_count": 44,
   "id": "a627a385",
   "metadata": {},
   "outputs": [],
   "source": [
    "# we called backward function recursively, backward(backward(backward()))\n",
    "# This time, convert recursive function call to loop structure. why? memory efficiency\n",
    "\n",
    "class Variable:\n",
    "    def __init__(self, data):\n",
    "        self.data = data\n",
    "        self.grad = None\n",
    "        self.creator = None\n",
    "\n",
    "    def set_creator(self, func):\n",
    "        self.creator = func\n",
    "\n",
    "    def backward(self):\n",
    "        funcs = [self.creator] # first, put mother function in the list\n",
    "        while funcs: # while loop instead of recursive function calls\n",
    "            f = funcs.pop() # take out (remove from the list) and save the mother function in f\n",
    "            x, y = f.input, f.output # mother knows both input and output\n",
    "            x.grad = f.backward(y.grad) # calculate gradient at input with gradient at output\n",
    "            \n",
    "            if x.creator is not None: # if we find the mother of current input,\n",
    "                funcs.append(x.creator) # put it in the list and restart the process with it"
   ]
  },
  {
   "cell_type": "code",
   "execution_count": 50,
   "id": "75fea4dc",
   "metadata": {},
   "outputs": [
    {
     "data": {
      "text/plain": [
       "'\\nA = Square()\\nB = Exp()\\nC = Square()\\n\\nx = Variable(np.array(0.5))\\na = A(x)\\nb = B(a)\\ny = C(b)\\n\\n# backprop\\ny.grad = np.array(1.0)\\ny.backward() # it backpropagates till the end, x. We get x.grad.\\nprint(x.grad)\\n'"
      ]
     },
     "execution_count": 50,
     "metadata": {},
     "output_type": "execute_result"
    }
   ],
   "source": [
    "# example\n",
    "\"\"\"\n",
    "A = Square()\n",
    "B = Exp()\n",
    "C = Square()\n",
    "\n",
    "x = Variable(np.array(0.5))\n",
    "a = A(x)\n",
    "b = B(a)\n",
    "y = C(b)\n",
    "\n",
    "# backprop\n",
    "y.grad = np.array(1.0)\n",
    "y.backward() # it backpropagates till the end, x. We get x.grad.\n",
    "print(x.grad)\n",
    "\"\"\""
   ]
  },
  {
   "cell_type": "markdown",
   "id": "bc963c78",
   "metadata": {},
   "source": [
    "Chapter 9 (make functions deployment and back prop method simple)"
   ]
  },
  {
   "cell_type": "code",
   "execution_count": 53,
   "id": "f077962b",
   "metadata": {},
   "outputs": [],
   "source": [
    "#1. rather than creating an instance and using it, we define extra functions as below:\n",
    "\n",
    "def square(x):\n",
    "    return Square()(x)\n",
    "\n",
    "def exp(x):\n",
    "    return Exp()(x)\n",
    "\n"
   ]
  },
  {
   "cell_type": "code",
   "execution_count": 57,
   "id": "b8e02da5",
   "metadata": {},
   "outputs": [
    {
     "data": {
      "text/plain": [
       "'\\nx = Variable(np.array(0.5))\\na = square(x)\\nb = exp(a)\\ny = square(b)\\n# or even like y = square(exp(square(x)))\\n\\ny.grad = np.array(1.0)\\ny.backward()\\nprint(x.grad)\\n'"
      ]
     },
     "execution_count": 57,
     "metadata": {},
     "output_type": "execute_result"
    }
   ],
   "source": [
    "# Now, we can code in simple form.\n",
    "\"\"\"\n",
    "x = Variable(np.array(0.5))\n",
    "a = square(x)\n",
    "b = exp(a)\n",
    "y = square(b)\n",
    "# or even like y = square(exp(square(x)))\n",
    "\n",
    "y.grad = np.array(1.0)\n",
    "y.backward()\n",
    "print(x.grad)\n",
    "\"\"\""
   ]
  },
  {
   "cell_type": "code",
   "execution_count": 59,
   "id": "19348435",
   "metadata": {},
   "outputs": [],
   "source": [
    "#2. remove y.grad = np.array(1.0)\n",
    "\n",
    "class Variable:\n",
    "    def __init__(self, data):\n",
    "        self.data = data\n",
    "        self.grad = None\n",
    "        self.creator = None\n",
    "\n",
    "    def set_creator(self, func):\n",
    "        self.creator = func\n",
    "\n",
    "    def backward(self):\n",
    "        if self.grad is None: # once backward function is called, set initial output gradient (y_grad) is set to 1(s)\n",
    "            self.grad = np.ones_like(self.data)\n",
    "        \n",
    "        funcs = [self.creator] \n",
    "        while funcs: \n",
    "            f = funcs.pop() \n",
    "            x, y = f.input, f.output \n",
    "            x.grad = f.backward(y.grad) \n",
    "            \n",
    "            if x.creator is not None: \n",
    "                funcs.append(x.creator) "
   ]
  },
  {
   "cell_type": "code",
   "execution_count": 63,
   "id": "41cfbbe9",
   "metadata": {},
   "outputs": [
    {
     "data": {
      "text/plain": [
       "'\\nx = Variable(np.array(0.5)) # input\\ny = square(exp(square(x))) # output via forward prop\\ny.backward() # call backward()\\nprint(x.grad)\\n'"
      ]
     },
     "execution_count": 63,
     "metadata": {},
     "output_type": "execute_result"
    }
   ],
   "source": [
    "\"\"\"\n",
    "x = Variable(np.array(0.5)) # input\n",
    "y = square(exp(square(x))) # output via forward prop\n",
    "y.backward() # call backward()\n",
    "print(x.grad)\n",
    "\"\"\""
   ]
  },
  {
   "cell_type": "code",
   "execution_count": 65,
   "id": "7cafb960",
   "metadata": {},
   "outputs": [],
   "source": [
    "# what if user tries to put non-ndarray data into Variable?\n",
    "\n",
    "class Variable:\n",
    "    def __init__(self, data):\n",
    "        if data is not None:\n",
    "            if not isinstance(data, np.ndarray):\n",
    "                raise TypeError('{} is not supported.'.format(type(data)))\n",
    "        \n",
    "        self.data = data\n",
    "        self.grad = None\n",
    "        self.creator = None\n",
    "\n",
    "    def set_creator(self, func):\n",
    "        self.creator = func\n",
    "\n",
    "    def backward(self):\n",
    "        if self.grad is None: \n",
    "            self.grad = np.ones_like(self.data)\n",
    "        \n",
    "        funcs = [self.creator] \n",
    "        while funcs: \n",
    "            f = funcs.pop() \n",
    "            x, y = f.input, f.output \n",
    "            x.grad = f.backward(y.grad) \n",
    "            \n",
    "            if x.creator is not None: \n",
    "                funcs.append(x.creator) "
   ]
  },
  {
   "cell_type": "code",
   "execution_count": 67,
   "id": "75381c83",
   "metadata": {},
   "outputs": [],
   "source": [
    "# example\n",
    "\n",
    "x = Variable(np.array(1.0))\n",
    "x = Variable(None)\n",
    "\n",
    "#x = Variable(1.0) # raise error"
   ]
  },
  {
   "cell_type": "code",
   "execution_count": 457,
   "id": "1d98b94e",
   "metadata": {},
   "outputs": [],
   "source": [
    "# but Python results in float after applying operations on 0-dimension ndarray.\n",
    "# we need to deal with this issue.\n",
    "\n",
    "# for make it easy, define a function\n",
    "\n",
    "def as_array(x):\n",
    "    if np.isscalar(x): # int and float are scalar\n",
    "        return np.array(x)\n",
    "    return x\n",
    "\n"
   ]
  },
  {
   "cell_type": "code",
   "execution_count": null,
   "id": "1d23974d-d5b2-4167-abdb-dba37695beeb",
   "metadata": {},
   "outputs": [],
   "source": [
    "class Function: \n",
    "    def __call__(self, input):\n",
    "        x = input.data\n",
    "        y = self.forward(x)\n",
    "        output = Variable(as_array(y))\n",
    "        output.set_creator(self) \n",
    "        \n",
    "        self.input = input\n",
    "        self.output = output\n",
    "        \n",
    "        return output\n",
    "    \n",
    "    def forward(self, x): \n",
    "        raise NotImplementedError()\n",
    "        \n",
    "    def backward(self, gy): \n",
    "        raise NotImplementedError()"
   ]
  },
  {
   "cell_type": "markdown",
   "id": "5e21aa11",
   "metadata": {},
   "source": [
    "Step 10. How to test DL framework?"
   ]
  },
  {
   "cell_type": "code",
   "execution_count": 72,
   "id": "92e25e4d",
   "metadata": {},
   "outputs": [],
   "source": [
    "import unittest\n",
    "\n",
    "class SquareTest(unittest.TestCase):\n",
    "    def test_forward(self): # name of method should begin with 'test'\n",
    "        x = Variable(np.array(2.0))\n",
    "        y = square(x)\n",
    "        expected = np.array(4.0)\n",
    "        self.assertEqual(y.data, expected)\n",
    "        \n",
    "    def test_backward(self):\n",
    "        x = Variable(np.array(3.0))\n",
    "        y = square(x)\n",
    "        y.backward()\n",
    "        expected = np.array(6.0)\n",
    "        self.assertEqual(x.grad, expected)\n",
    "        \n",
    "    def test_gradient_check(self):\n",
    "        x = Variable(np.random.rand(1))\n",
    "        y = square(x)\n",
    "        y.backward()\n",
    "        num_grad = numerical_diff(square, x)\n",
    "        flg = np.allclose(x.grad, num_grad)\n",
    "        self.assertTrue(flg)"
   ]
  },
  {
   "cell_type": "code",
   "execution_count": 74,
   "id": "3a4de84c",
   "metadata": {},
   "outputs": [],
   "source": [
    "# python -m unittest steps/step10.py"
   ]
  },
  {
   "cell_type": "markdown",
   "id": "9d2e5c2f",
   "metadata": {},
   "source": [
    "Step 11"
   ]
  },
  {
   "cell_type": "code",
   "execution_count": 168,
   "id": "b8a9fa17",
   "metadata": {},
   "outputs": [],
   "source": [
    "# SISO (single Variable) -> MIMO (list or tuple of Variables)\n",
    "\n",
    "class Function: \n",
    "    def __call__(self, inputs):\n",
    "        xs = [x.data for x in inputs]\n",
    "        ys = self.forward(xs)\n",
    "        outputs = [Variable(as_array(y)) for y in ys]\n",
    "        \n",
    "        for output in outputs:\n",
    "            output.set_creator(self) \n",
    "        \n",
    "        self.inputs = inputs\n",
    "        self.outputs = outputs\n",
    "        \n",
    "        return outputs\n",
    "    \n",
    "    def forward(self, xs): \n",
    "        raise NotImplementedError()\n",
    "        \n",
    "    def backward(self, gys): \n",
    "        raise NotImplementedError()"
   ]
  },
  {
   "cell_type": "code",
   "execution_count": 178,
   "id": "f15c3365",
   "metadata": {},
   "outputs": [
    {
     "ename": "AttributeError",
     "evalue": "'list' object has no attribute 'data'",
     "output_type": "error",
     "traceback": [
      "\u001b[0;31m---------------------------------------------------------------------------\u001b[0m",
      "\u001b[0;31mAttributeError\u001b[0m                            Traceback (most recent call last)",
      "Cell \u001b[0;32mIn[178], line 19\u001b[0m\n\u001b[1;32m     17\u001b[0m xs \u001b[38;5;241m=\u001b[39m [Variable(np\u001b[38;5;241m.\u001b[39marray(\u001b[38;5;241m2\u001b[39m)), Variable(np\u001b[38;5;241m.\u001b[39marray(\u001b[38;5;241m3\u001b[39m))]\n\u001b[1;32m     18\u001b[0m f \u001b[38;5;241m=\u001b[39m Add()\n\u001b[0;32m---> 19\u001b[0m ys \u001b[38;5;241m=\u001b[39m f(xs)\n\u001b[1;32m     20\u001b[0m y \u001b[38;5;241m=\u001b[39m ys[\u001b[38;5;241m0\u001b[39m]\n\u001b[1;32m     21\u001b[0m \u001b[38;5;28mprint\u001b[39m(y\u001b[38;5;241m.\u001b[39mdata)\n",
      "Cell \u001b[0;32mIn[174], line 12\u001b[0m, in \u001b[0;36mFunction.__call__\u001b[0;34m(self, *inputs)\u001b[0m\n\u001b[1;32m     11\u001b[0m \u001b[38;5;28;01mdef\u001b[39;00m \u001b[38;5;21m__call__\u001b[39m(\u001b[38;5;28mself\u001b[39m, \u001b[38;5;241m*\u001b[39minputs):\n\u001b[0;32m---> 12\u001b[0m     xs \u001b[38;5;241m=\u001b[39m [x\u001b[38;5;241m.\u001b[39mdata \u001b[38;5;28;01mfor\u001b[39;00m x \u001b[38;5;129;01min\u001b[39;00m inputs]\n\u001b[1;32m     13\u001b[0m     ys \u001b[38;5;241m=\u001b[39m \u001b[38;5;28mself\u001b[39m\u001b[38;5;241m.\u001b[39mforward(\u001b[38;5;241m*\u001b[39mxs) \u001b[38;5;66;03m# list unpack: self.forward(*xs) -> self.forward(x0, x1)\u001b[39;00m\n\u001b[1;32m     14\u001b[0m     \u001b[38;5;28;01mif\u001b[39;00m \u001b[38;5;129;01mnot\u001b[39;00m \u001b[38;5;28misinstance\u001b[39m(ys, \u001b[38;5;28mtuple\u001b[39m): \u001b[38;5;66;03m# if ys is not a tuple, convert it to tuple form\u001b[39;00m\n",
      "\u001b[0;31mAttributeError\u001b[0m: 'list' object has no attribute 'data'"
     ]
    }
   ],
   "source": [
    "# Add class\n",
    "\n",
    "class Add(Function):\n",
    "    def forward(self, xs):\n",
    "        x0, x1 = xs\n",
    "        y = x0 + x1\n",
    "        return (y,)\n",
    "\n",
    "\n",
    "# example\n",
    "xs = [Variable(np.array(2)), Variable(np.array(3))]\n",
    "f = Add()\n",
    "ys = f(xs)\n",
    "y = ys[0]\n",
    "print(y.data)\n"
   ]
  },
  {
   "cell_type": "markdown",
   "id": "f5e76ea1",
   "metadata": {},
   "source": [
    "Step 12"
   ]
  },
  {
   "cell_type": "code",
   "execution_count": 113,
   "id": "00b4fda6",
   "metadata": {},
   "outputs": [
    {
     "data": {
      "text/plain": [
       "'        \\n# example\\nx0 = Variable(np.array(2))\\nx1 = Variable(np.array(3))\\nf = Add()\\ny = f(x0, x1)\\nprint(y.data)\\n'"
      ]
     },
     "execution_count": 113,
     "metadata": {},
     "output_type": "execute_result"
    }
   ],
   "source": [
    "# Improvement in forward prop\n",
    "# SISO (single Variable) -> MIMO (list or tuple of Variables)\n",
    "\n",
    "#1. make it easy to use (not multiple args in list, but independent args)\n",
    "\n",
    "class Function: \n",
    "    def __call__(self, *inputs): # * for variable # of arguments\n",
    "        xs = [x.data for x in inputs]\n",
    "        ys = self.forward(*xs)\n",
    "        outputs = [Variable(as_array(y)) for y in ys]\n",
    "        \n",
    "        for output in outputs:\n",
    "            output.set_creator(self) \n",
    "        \n",
    "        self.inputs = inputs\n",
    "        self.outputs = outputs\n",
    "        \n",
    "        return outputs if len(outputs) > 1 else outputs[0]\n",
    "    \n",
    "    def forward(self, *xs): \n",
    "        raise NotImplementedError()\n",
    "        \n",
    "    def backward(self, *gys): \n",
    "        raise NotImplementedError()\n",
    "\"\"\"        \n",
    "# example\n",
    "x0 = Variable(np.array(2))\n",
    "x1 = Variable(np.array(3))\n",
    "f = Add()\n",
    "y = f(x0, x1)\n",
    "print(y.data)\n",
    "\"\"\""
   ]
  },
  {
   "cell_type": "code",
   "execution_count": 115,
   "id": "32842248",
   "metadata": {},
   "outputs": [],
   "source": [
    "#2. make it easy to implement function\n",
    "\n",
    "class Function: \n",
    "    def __call__(self, *inputs):\n",
    "        xs = [x.data for x in inputs]\n",
    "        ys = self.forward(*xs) # list unpack: self.forward(*xs) -> self.forward(x0, x1)\n",
    "        if not isinstance(ys, tuple): # if ys is not a tuple, convert it to tuple form\n",
    "                ys = (ys,)\n",
    "        outputs = [Variable(as_array(y)) for y in ys]\n",
    "        \n",
    "        for output in outputs:\n",
    "            output.set_creator(self) \n",
    "        \n",
    "        self.inputs = inputs\n",
    "        self.outputs = outputs\n",
    "        \n",
    "        return outputs if len(outputs) > 1 else outputs[0]\n",
    "    \n",
    "    def forward(self, xs): \n",
    "        raise NotImplementedError()\n",
    "        \n",
    "    def backward(self, gys): \n",
    "        raise NotImplementedError()\n",
    "\n",
    "class Add(Function):\n",
    "    def forward(self, x0, x1):\n",
    "        y = x0 + x1\n",
    "        return y\n"
   ]
  },
  {
   "cell_type": "code",
   "execution_count": 284,
   "id": "f414ddd9",
   "metadata": {},
   "outputs": [
    {
     "name": "stdout",
     "output_type": "stream",
     "text": [
      "5\n"
     ]
    }
   ],
   "source": [
    "# define add function using Add class\n",
    "def add(x0, x1):\n",
    "    return Add()(x0, x1)\n",
    "\n",
    "# example\n",
    "x0 = Variable(np.array(2))\n",
    "x1 = Variable(np.array(3))\n",
    "y = add(x0, x1)\n",
    "print(y.data)"
   ]
  },
  {
   "cell_type": "markdown",
   "id": "29d081ea",
   "metadata": {},
   "source": [
    "Step 13"
   ]
  },
  {
   "cell_type": "code",
   "execution_count": 282,
   "id": "e2c83d2d",
   "metadata": {},
   "outputs": [],
   "source": [
    "# Improvement in backward prop\n",
    "# SISO (single Variable) -> MIMO (list or tuple of Variables)\n",
    "\n",
    "class Add(Function):\n",
    "    def forward(self, x0, x1): # two inputs, one output\n",
    "        y = x0 + x1\n",
    "        return y\n",
    "    \n",
    "    def backward(self, gy): # one input, two outputs\n",
    "        return gy, gy\n",
    "\n",
    "class Variable:\n",
    "    def __init__(self, data):\n",
    "        if data is not None:\n",
    "            if not isinstance(data, np.ndarray):\n",
    "                raise TypeError('{} is not supported.'.format(type(data)))\n",
    "        \n",
    "        self.data = data\n",
    "        self.grad = None\n",
    "        self.creator = None\n",
    "\n",
    "    def set_creator(self, func):\n",
    "        self.creator = func\n",
    "\n",
    "    def backward(self):\n",
    "        if self.grad is None: \n",
    "            self.grad = np.ones_like(self.data)\n",
    "        \n",
    "        funcs = [self.creator] \n",
    "        while funcs: \n",
    "            f = funcs.pop()\n",
    "            #x, y = f.input, f.output \n",
    "            #x.grad = f.backward(y.grad) \n",
    "            gys = [output.grad for output in f.outputs] # save gradients at output(s) in the list, gys\n",
    "            gxs = f.backward(*gys) # call backprop with above gradients at outpus(s)\n",
    "            if not isinstance(gxs, tuple): # if gxs is not a tuple,\n",
    "                gxs = (gxs,) # convert it into a tuple\n",
    "            \n",
    "            for x, gx in zip(f.inputs, gxs): # zip matches its arguments in order into tuples\n",
    "                x.grad = gx # save x's gradient (gx) in x.grad\n",
    "                \n",
    "                if x.creator is not None: \n",
    "                    funcs.append(x.creator) "
   ]
  },
  {
   "cell_type": "code",
   "execution_count": 205,
   "id": "5b520da4",
   "metadata": {},
   "outputs": [],
   "source": [
    "# Edit Square function for MIMO\n",
    "\n",
    "class Square(Function):\n",
    "    def forward(self, x):\n",
    "        y = x ** 2\n",
    "        return y\n",
    "    \n",
    "    def backward(self, gy): \n",
    "        #x = self.input.data\n",
    "        x = self.inputs[0].data # Function class has arg named 'inputs'\n",
    "        gx = 2 * x * gy\n",
    "        return gx"
   ]
  },
  {
   "cell_type": "code",
   "execution_count": 124,
   "id": "96d5ed1b",
   "metadata": {},
   "outputs": [
    {
     "name": "stdout",
     "output_type": "stream",
     "text": [
      "13.0\n",
      "4.0\n",
      "6.0\n"
     ]
    }
   ],
   "source": [
    "# example. z = x^2 + y^2\n",
    "\n",
    "x = Variable(np.array(2.0))\n",
    "y = Variable(np.array(3.0))\n",
    "\n",
    "z = add(square(x), square(y))\n",
    "z.backward()\n",
    "\n",
    "print(z.data)\n",
    "print(x.grad)\n",
    "print(y.grad)"
   ]
  },
  {
   "cell_type": "markdown",
   "id": "9233f26f",
   "metadata": {},
   "source": [
    "Step 14"
   ]
  },
  {
   "cell_type": "code",
   "execution_count": 127,
   "id": "d97a15c8",
   "metadata": {},
   "outputs": [
    {
     "name": "stdout",
     "output_type": "stream",
     "text": [
      "y 6.0\n",
      "x.grad 1.0\n"
     ]
    }
   ],
   "source": [
    "# Fixing an issue of using the same var multiple times within a function\n",
    "# example\n",
    "\n",
    "x = Variable(np.array(3.0))\n",
    "y = add(x, x)\n",
    "print('y', y.data)\n",
    "\n",
    "y.backward()\n",
    "print('x.grad', x.grad) # answer is two"
   ]
  },
  {
   "cell_type": "code",
   "execution_count": 129,
   "id": "cd7c84e3",
   "metadata": {},
   "outputs": [],
   "source": [
    "# the output above is wrong\n",
    "# need to edit code so that values are accumulated if we use the same var multiple times\n",
    "\n",
    "class Variable:\n",
    "    def __init__(self, data):\n",
    "        if data is not None:\n",
    "            if not isinstance(data, np.ndarray):\n",
    "                raise TypeError('{} is not supported.'.format(type(data)))\n",
    "        \n",
    "        self.data = data\n",
    "        self.grad = None\n",
    "        self.creator = None\n",
    "\n",
    "    def set_creator(self, func):\n",
    "        self.creator = func\n",
    "\n",
    "    def backward(self):\n",
    "        if self.grad is None: \n",
    "            self.grad = np.ones_like(self.data)\n",
    "        \n",
    "        funcs = [self.creator] \n",
    "        while funcs: \n",
    "            f = funcs.pop()\n",
    "            gys = [output.grad for output in f.outputs] \n",
    "            gxs = f.backward(*gys) \n",
    "            if not isinstance(gxs, tuple): \n",
    "                gxs = (gxs,) \n",
    "            \n",
    "            for x, gx in zip(f.inputs, gxs): \n",
    "                if x.grad is None: # have not assigned gradient to a var, \n",
    "                    x.grad = gx # assign the gradient \n",
    "                else: # if var has gradient already, but it was used further at the same time,\n",
    "                    x.grad = x.grad + gx # accumulate gradient\n",
    "                    \n",
    "                if x.creator is not None: \n",
    "                    funcs.append(x.creator) "
   ]
  },
  {
   "cell_type": "code",
   "execution_count": 131,
   "id": "1c071634",
   "metadata": {},
   "outputs": [
    {
     "name": "stdout",
     "output_type": "stream",
     "text": [
      "y 6.0\n",
      "x.grad 2.0\n"
     ]
    }
   ],
   "source": [
    "# example\n",
    "\n",
    "x = Variable(np.array(3.0))\n",
    "y = add(x, x)\n",
    "print('y', y.data)\n",
    "\n",
    "y.backward()\n",
    "print('x.grad', x.grad) # answer is two"
   ]
  },
  {
   "cell_type": "code",
   "execution_count": 133,
   "id": "6e17054c",
   "metadata": {},
   "outputs": [
    {
     "name": "stdout",
     "output_type": "stream",
     "text": [
      "2.0\n",
      "5.0\n"
     ]
    }
   ],
   "source": [
    "# We have another issue here so far.\n",
    "# We resolved the issue of using the same var multiple times within a function, but what if we use a var multiple times across various functions?\n",
    "\n",
    "x = Variable(np.array(3.0))\n",
    "y = add(x, x)\n",
    "y.backward()\n",
    "print(x.grad)\n",
    "\n",
    "y = add(add(x, x), x)\n",
    "y.backward()\n",
    "print(x.grad) # answer is 3"
   ]
  },
  {
   "cell_type": "code",
   "execution_count": 135,
   "id": "7211bf90",
   "metadata": {},
   "outputs": [],
   "source": [
    "# we define a function to reset gradient once calculations for a function is done\n",
    "\n",
    "class Variable:\n",
    "    def __init__(self, data):\n",
    "        if data is not None:\n",
    "            if not isinstance(data, np.ndarray):\n",
    "                raise TypeError('{} is not supported.'.format(type(data)))\n",
    "        \n",
    "        self.data = data\n",
    "        self.grad = None\n",
    "        self.creator = None\n",
    "\n",
    "    def set_creator(self, func):\n",
    "        self.creator = func\n",
    "\n",
    "    def backward(self):\n",
    "        if self.grad is None: \n",
    "            self.grad = np.ones_like(self.data)\n",
    "        \n",
    "        funcs = [self.creator] \n",
    "        while funcs: \n",
    "            f = funcs.pop()\n",
    "            gys = [output.grad for output in f.outputs] \n",
    "            gxs = f.backward(*gys) \n",
    "            if not isinstance(gxs, tuple): \n",
    "                gxs = (gxs,) \n",
    "            \n",
    "            for x, gx in zip(f.inputs, gxs): \n",
    "                if x.grad is None: \n",
    "                    x.grad = gx\n",
    "                else: \n",
    "                    x.grad = x.grad + gx \n",
    "                    \n",
    "                if x.creator is not None: \n",
    "                    funcs.append(x.creator) \n",
    "    \n",
    "    def cleargrad(self):\n",
    "        self.grad = None # reset gradient"
   ]
  },
  {
   "cell_type": "code",
   "execution_count": 137,
   "id": "90e641aa",
   "metadata": {},
   "outputs": [
    {
     "name": "stdout",
     "output_type": "stream",
     "text": [
      "2.0\n",
      "3.0\n"
     ]
    }
   ],
   "source": [
    "# example\n",
    "\n",
    "x = Variable(np.array(3.0))\n",
    "y = add(x, x)\n",
    "y.backward()\n",
    "print(x.grad)\n",
    "\n",
    "x.cleargrad()\n",
    "y = add(add(x, x), x)\n",
    "y.backward()\n",
    "print(x.grad)"
   ]
  },
  {
   "cell_type": "markdown",
   "id": "5d7894d1-2a93-4db4-a0eb-235868323499",
   "metadata": {},
   "source": [
    "Step 16"
   ]
  },
  {
   "cell_type": "code",
   "execution_count": 140,
   "id": "fb9977e7",
   "metadata": {
    "scrolled": true
   },
   "outputs": [],
   "source": [
    "# segment generation so that backprop goes back level by level\n",
    "\n",
    "\n",
    "class Variable:\n",
    "    def __init__(self, data):\n",
    "        if data is not None:\n",
    "            if not isinstance(data, np.ndarray):\n",
    "                raise TypeError('{} is not supported.'.format(type(data)))\n",
    "        \n",
    "        self.data = data\n",
    "        self.grad = None\n",
    "        self.creator = None\n",
    "        self.generation = 0 # to identify generation\n",
    "\n",
    "    def set_creator(self, func):\n",
    "        self.creator = func\n",
    "        self.generation = func.generation + 1 # set one generation plus from its mother\n",
    "\n",
    "    def backward(self):\n",
    "        if self.grad is None: \n",
    "            self.grad = np.ones_like(self.data)\n",
    "        \n",
    "        funcs = [self.creator] \n",
    "        while funcs: \n",
    "            f = funcs.pop()\n",
    "            gys = [output.grad for output in f.outputs] \n",
    "            gxs = f.backward(*gys) \n",
    "            if not isinstance(gxs, tuple): \n",
    "                gxs = (gxs,) \n",
    "            \n",
    "            for x, gx in zip(f.inputs, gxs): \n",
    "                if x.grad is None: \n",
    "                    x.grad = gx\n",
    "                else: \n",
    "                    x.grad = x.grad + gx \n",
    "                    \n",
    "                if x.creator is not None: \n",
    "                    funcs.append(x.creator) \n",
    "    \n",
    "    def cleargrad(self):\n",
    "        self.grad = None"
   ]
  },
  {
   "attachments": {
    "1e5658db-202c-477d-9ff3-5b662b0799b2.png": {
     "image/png": "[encoded data removed]"
    }
   },
   "cell_type": "markdown",
   "id": "c92851a2-fef9-418a-be86-4f34304a0254",
   "metadata": {},
   "source": [
    "![image.png](attachment:1e5658db-202c-477d-9ff3-5b662b0799b2.png)"
   ]
  },
  {
   "cell_type": "code",
   "execution_count": 143,
   "id": "b5b24262-e24a-4ce5-b37f-4e865682a9f4",
   "metadata": {},
   "outputs": [],
   "source": [
    "# apply to Function\n",
    "\n",
    "class Function: \n",
    "    def __call__(self, *inputs):\n",
    "        xs = [x.data for x in inputs]\n",
    "        ys = self.forward(*xs) # list unpack: self.forward(*xs) -> self.forward(x0, x1)\n",
    "        if not isinstance(ys, tuple): # if ys is not a tuple, convert it to tuple form\n",
    "                ys = (ys,)\n",
    "        outputs = [Variable(as_array(y)) for y in ys]\n",
    "\n",
    "        self.generation = max([x.generation for x in inputs]) # generation of a function is max(generation of inputs)\n",
    "        \n",
    "        for output in outputs:\n",
    "            output.set_creator(self) \n",
    "        \n",
    "        self.inputs = inputs\n",
    "        self.outputs = outputs\n",
    "        \n",
    "        return outputs if len(outputs) > 1 else outputs[0]\n",
    "    \n",
    "    def forward(self, xs): \n",
    "        raise NotImplementedError()\n",
    "        \n",
    "    def backward(self, gys): \n",
    "        raise NotImplementedError()"
   ]
  },
  {
   "attachments": {
    "3c8067a2-8f86-497c-bdea-09c4a8be3b59.png": {
     "image/png": "[encoded data removed]"
    }
   },
   "cell_type": "markdown",
   "id": "9647e664-4433-4a28-91a9-6f1d668b43a8",
   "metadata": {},
   "source": [
    "![image.png](attachment:3c8067a2-8f86-497c-bdea-09c4a8be3b59.png)"
   ]
  },
  {
   "cell_type": "code",
   "execution_count": 146,
   "id": "4b09e2d5-e40f-4450-96ab-0bafec5bfe8f",
   "metadata": {},
   "outputs": [],
   "source": [
    "# Now, once we've done sort generation, backprop could be done in order.\n",
    "\n",
    "class Variable:\n",
    "    def __init__(self, data):\n",
    "        if data is not None:\n",
    "            if not isinstance(data, np.ndarray):\n",
    "                raise TypeError('{} is not supported.'.format(type(data)))\n",
    "        \n",
    "        self.data = data\n",
    "        self.grad = None\n",
    "        self.creator = None\n",
    "        self.generation = 0 \n",
    "\n",
    "    def set_creator(self, func):\n",
    "        self.creator = func\n",
    "        self.generation = func.generation + 1 # set one generation plus from its mother\n",
    "\n",
    "    def backward(self):\n",
    "        if self.grad is None: \n",
    "            self.grad = np.ones_like(self.data)\n",
    "\n",
    "        funcs = [] # functions list\n",
    "        seen_set = set() # list of functions dealt with\n",
    "\n",
    "        def add_func(f): # instead of .append, new function for add & sort at the same time\n",
    "            if f not in seen_set:\n",
    "                funcs.append(f)\n",
    "                seen_set.add(f)\n",
    "                funcs.sort(key=lambda x: x.generation) # so, pop() lifts the largest number\n",
    "\n",
    "        add_func(self.creator)\n",
    "        \n",
    "        #funcs = [self.creator] \n",
    "        while funcs: \n",
    "            f = funcs.pop()\n",
    "            gys = [output.grad for output in f.outputs] \n",
    "            gxs = f.backward(*gys) \n",
    "            if not isinstance(gxs, tuple): \n",
    "                gxs = (gxs,) \n",
    "            \n",
    "            for x, gx in zip(f.inputs, gxs): \n",
    "                if x.grad is None: \n",
    "                    x.grad = gx\n",
    "                else: \n",
    "                    x.grad = x.grad + gx \n",
    "                    \n",
    "                if x.creator is not None: \n",
    "                    #funcs.append(x.creator) \n",
    "                    add_func(x.creator)\n",
    "    \n",
    "    def cleargrad(self):\n",
    "        self.grad = None"
   ]
  },
  {
   "cell_type": "markdown",
   "id": "0cb6508f-851c-45c3-9241-aa8de0de2aa5",
   "metadata": {},
   "source": [
    "Step 17 Performance Enhancement"
   ]
  },
  {
   "cell_type": "code",
   "execution_count": 186,
   "id": "b9f9d7f1-9f36-4a3e-b22f-3ec194de3cce",
   "metadata": {},
   "outputs": [],
   "source": [
    "# Reference count is one of the way Python handles memory management. But, it doesn't work for circular reference. \n",
    "# So, Garbage Collection is here to handle various cases including circular reference. But, it takes time to get rid of unused items.\n",
    "# Let's make it a weak reference, i.e. reference as usual but without reference count increase.\n",
    "\n",
    "import weakref\n",
    "\n",
    "class Function: \n",
    "    def __init__(self):\n",
    "        self.generation = 0\n",
    "    \n",
    "    def __call__(self, *inputs):\n",
    "        xs = [x.data for x in inputs]\n",
    "        ys = self.forward(*xs) # list unpack: self.forward(*xs) -> self.forward(x0, x1)\n",
    "        if not isinstance(ys, tuple): # if ys is not a tuple, convert it to tuple form\n",
    "                ys = (ys,)\n",
    "        outputs = [Variable(as_array(y)) for y in ys]\n",
    "\n",
    "        self.generation = max([x.generation for x in inputs]) # generation of a function is max(generation of inputs)\n",
    "        \n",
    "        for output in outputs:\n",
    "            output.set_creator(self) \n",
    "        \n",
    "        self.inputs = inputs\n",
    "        #self.outputs = outputs\n",
    "        self.outputs = [weakref.ref(output) for output in outputs] # self.outputs refer data in a weak reference form\n",
    "        \n",
    "        return outputs if len(outputs) > 1 else outputs[0]\n",
    "    \n",
    "    def forward(self, xs): \n",
    "        raise NotImplementedError()\n",
    "        \n",
    "    def backward(self, gys): \n",
    "        raise NotImplementedError()\n",
    "\n",
    "\n",
    "class Variable:\n",
    "    def __init__(self, data):\n",
    "        if data is not None:\n",
    "            if not isinstance(data, np.ndarray):\n",
    "                raise TypeError('{} is not supported.'.format(type(data)))\n",
    "        \n",
    "        self.data = data\n",
    "        self.grad = None\n",
    "        self.creator = None\n",
    "        self.generation = 0 \n",
    "\n",
    "    def set_creator(self, func):\n",
    "        self.creator = func\n",
    "        self.generation = func.generation + 1 \n",
    "\n",
    "    def backward(self):\n",
    "        if self.grad is None: \n",
    "            self.grad = np.ones_like(self.data)\n",
    "\n",
    "        funcs = [] \n",
    "        seen_set = set() \n",
    "\n",
    "        def add_func(f): \n",
    "            if f not in seen_set:\n",
    "                funcs.append(f)\n",
    "                seen_set.add(f)\n",
    "                funcs.sort(key=lambda x: x.generation) \n",
    "\n",
    "        add_func(self.creator)\n",
    "        \n",
    "        while funcs: \n",
    "            f = funcs.pop()\n",
    "            #gys = [output.grad for output in f.outputs] \n",
    "            gys = [output().grad for output in f.outputs] # need () to access the data it refers\n",
    "            gxs = f.backward(*gys) \n",
    "            if not isinstance(gxs, tuple): \n",
    "                gxs = (gxs,) \n",
    "            \n",
    "            for x, gx in zip(f.inputs, gxs): \n",
    "                if x.grad is None: \n",
    "                    x.grad = gx\n",
    "                else: \n",
    "                    x.grad = x.grad + gx \n",
    "                    \n",
    "                if x.creator is not None: \n",
    "                    add_func(x.creator)\n",
    "    \n",
    "    def cleargrad(self):\n",
    "        self.grad = None"
   ]
  },
  {
   "cell_type": "markdown",
   "id": "038720a5-0474-4502-a699-4812d8d7a321",
   "metadata": {},
   "source": [
    "Step 18 Save Memory"
   ]
  },
  {
   "cell_type": "code",
   "execution_count": 189,
   "id": "2342c0d1-dadb-415d-a949-4fb610369ec5",
   "metadata": {},
   "outputs": [],
   "source": [
    "# 1. Delete unnecessary derivatives results immediately\n",
    "# 2. Reserve a mode without backprop"
   ]
  },
  {
   "cell_type": "code",
   "execution_count": 191,
   "id": "c5f8987f-7715-4027-90e2-b9a034c50e95",
   "metadata": {},
   "outputs": [
    {
     "name": "stdout",
     "output_type": "stream",
     "text": [
      "1.0 1.0\n",
      "2.0 1.0\n"
     ]
    }
   ],
   "source": [
    "# example\n",
    "\n",
    "x0 = Variable(np.array(1.0))\n",
    "x1 = Variable(np.array(1.0))\n",
    "t = add(x0, x1)\n",
    "y = add(x0, t)\n",
    "y.backward()\n",
    "\n",
    "print(y.grad, t.grad)\n",
    "print(x0.grad, x1.grad)"
   ]
  },
  {
   "cell_type": "code",
   "execution_count": 195,
   "id": "6d72ac10-ff74-4fd1-b33d-b55c90599dfe",
   "metadata": {},
   "outputs": [],
   "source": [
    "# 1. So far, we had all var save its gradient.\n",
    "# But what we focus on is gradients at inputs, not interim variables.\n",
    "# Let's make variables in the middle miss their gradients.\n",
    "\n",
    "class Variable:\n",
    "    def __init__(self, data):\n",
    "        if data is not None:\n",
    "            if not isinstance(data, np.ndarray):\n",
    "                raise TypeError('{} is not supported.'.format(type(data)))\n",
    "        \n",
    "        self.data = data\n",
    "        self.grad = None\n",
    "        self.creator = None\n",
    "        self.generation = 0 \n",
    "\n",
    "    def set_creator(self, func):\n",
    "        self.creator = func\n",
    "        self.generation = func.generation + 1 \n",
    "\n",
    "    def backward(self, retain_grad=False): # variable to check if all gradients need to be saved\n",
    "        if self.grad is None: \n",
    "            self.grad = np.ones_like(self.data)\n",
    "\n",
    "        funcs = [] \n",
    "        seen_set = set() \n",
    "\n",
    "        def add_func(f): \n",
    "            if f not in seen_set:\n",
    "                funcs.append(f)\n",
    "                seen_set.add(f)\n",
    "                funcs.sort(key=lambda x: x.generation) \n",
    "\n",
    "        add_func(self.creator)\n",
    "        \n",
    "        while funcs: \n",
    "            f = funcs.pop()\n",
    "            gys = [output().grad for output in f.outputs] \n",
    "            gxs = f.backward(*gys) \n",
    "            if not isinstance(gxs, tuple): \n",
    "                gxs = (gxs,) \n",
    "            \n",
    "            for x, gx in zip(f.inputs, gxs): \n",
    "                if x.grad is None: \n",
    "                    x.grad = gx\n",
    "                else: \n",
    "                    x.grad = x.grad + gx \n",
    "                    \n",
    "                if x.creator is not None: \n",
    "                    add_func(x.creator)\n",
    "\n",
    "            if not retain_grad:\n",
    "                for y in f.outputs:\n",
    "                    y().grad = None # y is a weak reference, so y(). None will get it deleted from memory (reference count equals 0)\n",
    "    \n",
    "    def cleargrad(self):\n",
    "        self.grad = None\n",
    "\n"
   ]
  },
  {
   "cell_type": "code",
   "execution_count": 199,
   "id": "0cba509d-6969-49a4-b988-12f734370d7c",
   "metadata": {},
   "outputs": [
    {
     "name": "stdout",
     "output_type": "stream",
     "text": [
      "None None\n",
      "2.0 1.0\n"
     ]
    }
   ],
   "source": [
    "# example\n",
    "# Now, we delete all grad except for x0 and x1.\n",
    "\n",
    "x0 = Variable(np.array(1.0))\n",
    "x1 = Variable(np.array(1.0))\n",
    "t = add(x0, x1)\n",
    "y = add(x0, t)\n",
    "y.backward()\n",
    "\n",
    "print(y.grad, t.grad)\n",
    "print(x0.grad, x1.grad)"
   ]
  },
  {
   "cell_type": "code",
   "execution_count": 201,
   "id": "8b21e577-a142-471e-b7c2-8f0bbf7f011b",
   "metadata": {},
   "outputs": [],
   "source": [
    "# We need forward prop results to do back prop. So, each result (inputs to functions) must be retained till back prop.\n",
    "# Unlike ML, inference is only a process of forward prop. So, we don't need to keep all data in the middle.\n",
    "\n",
    "# Here comes the mode without back prop!\n",
    "\n",
    "class Config:\n",
    "    enable_backprop = True\n",
    "\n",
    "class Function: \n",
    "    def __init__(self):\n",
    "        self.generation = 0\n",
    "    \n",
    "    def __call__(self, *inputs):\n",
    "        xs = [x.data for x in inputs]\n",
    "        ys = self.forward(*xs)\n",
    "        if not isinstance(ys, tuple):\n",
    "                ys = (ys,)\n",
    "        outputs = [Variable(as_array(y)) for y in ys]\n",
    "\n",
    "        if Config.enable_backprop: # Everything required for backpropagation is contained within the if statement\n",
    "            self.generation = max([x.generation for x in inputs]) \n",
    "        \n",
    "            for output in outputs:\n",
    "                output.set_creator(self) \n",
    "            \n",
    "            self.inputs = inputs\n",
    "            self.outputs = [weakref.ref(output) for output in outputs] \n",
    "            \n",
    "        return outputs if len(outputs) > 1 else outputs[0]\n",
    "    \n",
    "    def forward(self, xs): \n",
    "        raise NotImplementedError()\n",
    "        \n",
    "    def backward(self, gys): \n",
    "        raise NotImplementedError()\n"
   ]
  },
  {
   "cell_type": "code",
   "execution_count": 211,
   "id": "d160272f-44bf-4b68-8baa-e3f6f1eb810a",
   "metadata": {},
   "outputs": [],
   "source": [
    "Config.enable_backprop = True # for ML\n",
    "x = Variable(np.ones((100, 100, 100)))\n",
    "y = square(square(square(x)))\n",
    "y.backward()\n",
    "\n",
    "Config.enable_backprop = False # for inference\n",
    "x = Variable(np.ones((100, 100, 100)))\n",
    "y = square(square(square(x)))"
   ]
  },
  {
   "cell_type": "code",
   "execution_count": 215,
   "id": "707ca652-95fc-4830-bfac-c22078e08339",
   "metadata": {},
   "outputs": [],
   "source": [
    "# mode conversion with 'with'\n",
    "\n",
    "import contextlib\n",
    "\n",
    "@contextlib.contextmanager # This decorator tells this function should be treated as a context manager\n",
    "def using_config(name, value): # name of the attribute on the Config object you want to temporarily change, new value to assign to that attribute during the context\n",
    "    old_value = getattr(Config, name)\n",
    "    setattr(Config, name, value)\n",
    "    try:\n",
    "        yield # The yield statement temporarily suspends the function and transfers control back to the caller\n",
    "    finally:\n",
    "        setattr(Config, name, old_value) # Once the with block finishes, the code in the finally block is executed. resets the attribute on Config back to its original value."
   ]
  },
  {
   "cell_type": "code",
   "execution_count": 217,
   "id": "025810b9-ce38-4d94-ab70-56829ade1cc7",
   "metadata": {},
   "outputs": [],
   "source": [
    "# example\n",
    "\n",
    "with using_config('enable_backprop', False):\n",
    "    x = Variable(np.array(2.0))\n",
    "    y = square(x)"
   ]
  },
  {
   "cell_type": "code",
   "execution_count": 219,
   "id": "069df3b6-f9ba-49ea-b795-91fa1b876b45",
   "metadata": {},
   "outputs": [],
   "source": [
    "# but I am a sloth who doesn't want to type with statement everytime, so\n",
    "\n",
    "def no_grad():\n",
    "    return using_config('enable_backprop', False)\n",
    "\n",
    "# it's better!\n",
    "with no_grad():\n",
    "    x = Variable(np.array(2.0))\n",
    "    y = square(x)"
   ]
  },
  {
   "cell_type": "markdown",
   "id": "e95592b2-cbf0-4623-8720-6a698dc04874",
   "metadata": {},
   "source": [
    "Step 19. Let's use Variable class in an easy way"
   ]
  },
  {
   "cell_type": "code",
   "execution_count": 222,
   "id": "771a74f7-1894-4c33-b278-f49b579fca11",
   "metadata": {},
   "outputs": [],
   "source": [
    "class Variable:\n",
    "    def __init__(self, data, name=None): # I have a name from now on\n",
    "        if data is not None:\n",
    "            if not isinstance(data, np.ndarray):\n",
    "                raise TypeError('{} is not supported.'.format(type(data)))\n",
    "        \n",
    "        self.data = data\n",
    "        self.name = name # now Variable has name\n",
    "        self.grad = None\n",
    "        self.creator = None\n",
    "        self.generation = 0 \n",
    "\n",
    "    def set_creator(self, func):\n",
    "        self.creator = func\n",
    "        self.generation = func.generation + 1 \n",
    "\n",
    "    def backward(self, retain_grad=False): \n",
    "        if self.grad is None: \n",
    "            self.grad = np.ones_like(self.data)\n",
    "\n",
    "        funcs = [] \n",
    "        seen_set = set() \n",
    "\n",
    "        def add_func(f): \n",
    "            if f not in seen_set:\n",
    "                funcs.append(f)\n",
    "                seen_set.add(f)\n",
    "                funcs.sort(key=lambda x: x.generation) \n",
    "\n",
    "        add_func(self.creator)\n",
    "        \n",
    "        while funcs: \n",
    "            f = funcs.pop()\n",
    "            gys = [output().grad for output in f.outputs] \n",
    "            gxs = f.backward(*gys) \n",
    "            if not isinstance(gxs, tuple): \n",
    "                gxs = (gxs,) \n",
    "            \n",
    "            for x, gx in zip(f.inputs, gxs): \n",
    "                if x.grad is None: \n",
    "                    x.grad = gx\n",
    "                else: \n",
    "                    x.grad = x.grad + gx \n",
    "                    \n",
    "                if x.creator is not None: \n",
    "                    add_func(x.creator)\n",
    "\n",
    "            if not retain_grad:\n",
    "                for y in f.outputs:\n",
    "                    y().grad = None \n",
    "    \n",
    "    def cleargrad(self):\n",
    "        self.grad = None\n",
    "\n"
   ]
  },
  {
   "cell_type": "code",
   "execution_count": 228,
   "id": "6381759c-de24-42b6-a847-f439f1c8fcf1",
   "metadata": {},
   "outputs": [],
   "source": [
    "# Let's make Variable look like ndarray\n",
    "\n",
    "class Variable:\n",
    "    def __init__(self, data, name=None):\n",
    "        if data is not None:\n",
    "            if not isinstance(data, np.ndarray):\n",
    "                raise TypeError('{} is not supported.'.format(type(data)))\n",
    "        \n",
    "        self.data = data\n",
    "        self.name = name \n",
    "        self.grad = None\n",
    "        self.creator = None\n",
    "        self.generation = 0 \n",
    "\n",
    "    def set_creator(self, func):\n",
    "        self.creator = func\n",
    "        self.generation = func.generation + 1 \n",
    "\n",
    "    def backward(self, retain_grad=False): \n",
    "        if self.grad is None: \n",
    "            self.grad = np.ones_like(self.data)\n",
    "\n",
    "        funcs = [] \n",
    "        seen_set = set() \n",
    "\n",
    "        def add_func(f): \n",
    "            if f not in seen_set:\n",
    "                funcs.append(f)\n",
    "                seen_set.add(f)\n",
    "                funcs.sort(key=lambda x: x.generation) \n",
    "\n",
    "        add_func(self.creator)\n",
    "        \n",
    "        while funcs: \n",
    "            f = funcs.pop()\n",
    "            gys = [output().grad for output in f.outputs] \n",
    "            gxs = f.backward(*gys) \n",
    "            if not isinstance(gxs, tuple): \n",
    "                gxs = (gxs,) \n",
    "            \n",
    "            for x, gx in zip(f.inputs, gxs): \n",
    "                if x.grad is None: \n",
    "                    x.grad = gx\n",
    "                else: \n",
    "                    x.grad = x.grad + gx \n",
    "                    \n",
    "                if x.creator is not None: \n",
    "                    add_func(x.creator)\n",
    "\n",
    "            if not retain_grad:\n",
    "                for y in f.outputs:\n",
    "                    y().grad = None \n",
    "\n",
    "    def cleargrad(self):\n",
    "        self.grad = None\n",
    "\n",
    "    @property # make shape function as if it is an instance variable\n",
    "    def shape(self): # define shape function\n",
    "        return self.data.shape"
   ]
  },
  {
   "cell_type": "code",
   "execution_count": 230,
   "id": "bb791a97-0396-4151-934d-1f90802e1bc5",
   "metadata": {},
   "outputs": [
    {
     "name": "stdout",
     "output_type": "stream",
     "text": [
      "(2, 3)\n"
     ]
    }
   ],
   "source": [
    "# example\n",
    "\n",
    "x = Variable(np.array([[1,2,3],[4,5,6]]))\n",
    "print(x.shape) # .shape works thanks to @property"
   ]
  },
  {
   "cell_type": "code",
   "execution_count": 387,
   "id": "57b15643-c26e-4928-85ff-8c91d9e43632",
   "metadata": {},
   "outputs": [],
   "source": [
    "# let's add other variables further\n",
    "\n",
    "class Variable:\n",
    "    def __init__(self, data, name=None):\n",
    "        if data is not None:\n",
    "            if not isinstance(data, np.ndarray):\n",
    "                raise TypeError('{} is not supported.'.format(type(data)))\n",
    "        \n",
    "        self.data = data\n",
    "        self.name = name \n",
    "        self.grad = None\n",
    "        self.creator = None\n",
    "        self.generation = 0 \n",
    "\n",
    "    def set_creator(self, func):\n",
    "        self.creator = func\n",
    "        self.generation = func.generation + 1 \n",
    "\n",
    "    def backward(self, retain_grad=False): \n",
    "        if self.grad is None: \n",
    "            self.grad = np.ones_like(self.data)\n",
    "\n",
    "        funcs = [] \n",
    "        seen_set = set() \n",
    "\n",
    "        def add_func(f): \n",
    "            if f not in seen_set:\n",
    "                funcs.append(f)\n",
    "                seen_set.add(f)\n",
    "                funcs.sort(key=lambda x: x.generation) \n",
    "\n",
    "        add_func(self.creator)\n",
    "        \n",
    "        while funcs: \n",
    "            f = funcs.pop()\n",
    "            gys = [output().grad for output in f.outputs] \n",
    "            gxs = f.backward(*gys) \n",
    "            if not isinstance(gxs, tuple): \n",
    "                gxs = (gxs,) \n",
    "            \n",
    "            for x, gx in zip(f.inputs, gxs): \n",
    "                if x.grad is None: \n",
    "                    x.grad = gx\n",
    "                else: \n",
    "                    x.grad = x.grad + gx \n",
    "                    \n",
    "                if x.creator is not None: \n",
    "                    add_func(x.creator)\n",
    "\n",
    "            if not retain_grad:\n",
    "                for y in f.outputs:\n",
    "                    y().grad = None \n",
    "\n",
    "    def cleargrad(self):\n",
    "        self.grad = None\n",
    "\n",
    "    @property \n",
    "    def shape(self): \n",
    "        return self.data.shape\n",
    "\n",
    "    @property \n",
    "    def ndim(self): # # of dimension\n",
    "        return self.data.ndim\n",
    "\n",
    "    @property \n",
    "    def size(self): # # of elements\n",
    "        return self.data.size\n",
    "\n",
    "    @property \n",
    "    def dtype(self): # data type\n",
    "        return self.data.dtype\n",
    "\n",
    "    def __len__(self): # show the length of Variable instance\n",
    "        return len(self.data)\n",
    "\n",
    "    def __repr__(self): # make print work following my taste\n",
    "        if self.data is None:\n",
    "            return 'variable(None)'\n",
    "        p = str(self.data).replace('\\n', '\\n' + ' ' * 9)\n",
    "        return 'variable(' + p + ')'"
   ]
  },
  {
   "cell_type": "markdown",
   "id": "4e188ef3-c29e-46b9-8967-88d7e6bf1919",
   "metadata": {},
   "source": [
    "Step 20 '+' and '*' workable for Variable directly via operator overload"
   ]
  },
  {
   "cell_type": "code",
   "execution_count": 417,
   "id": "f5229b3f-9516-4098-8be4-d2d68dd00003",
   "metadata": {},
   "outputs": [],
   "source": [
    "# '*' first\n",
    "\n",
    "class Mul(Function): # define forward and backward prop function\n",
    "    def forward(self, x0, x1):\n",
    "        y = x0 * x1\n",
    "        return y\n",
    "\n",
    "    def backward(self, gy):\n",
    "        x0, x1 = self.inputs[0].data, self.inputs[1].data\n",
    "        return gy*x1, gy*x0\n",
    "\n",
    "def mul(x0, x1): # make multiplication work with mul()\n",
    "    return Mul()(x0, x1)"
   ]
  },
  {
   "cell_type": "code",
   "execution_count": 419,
   "id": "f641a7cf-4ade-4bbd-a823-118e6cb0a5d5",
   "metadata": {},
   "outputs": [
    {
     "ename": "AttributeError",
     "evalue": "'NoneType' object has no attribute 'generation'",
     "output_type": "error",
     "traceback": [
      "\u001b[0;31m---------------------------------------------------------------------------\u001b[0m",
      "\u001b[0;31mAttributeError\u001b[0m                            Traceback (most recent call last)",
      "Cell \u001b[0;32mIn[419], line 9\u001b[0m\n\u001b[1;32m      5\u001b[0m c \u001b[38;5;241m=\u001b[39m Variable(np\u001b[38;5;241m.\u001b[39marray(\u001b[38;5;241m1.0\u001b[39m))\n\u001b[1;32m      7\u001b[0m y \u001b[38;5;241m=\u001b[39m add(mul(a,b), c)\n\u001b[0;32m----> 9\u001b[0m y\u001b[38;5;241m.\u001b[39mbackward()\n\u001b[1;32m     11\u001b[0m \u001b[38;5;28mprint\u001b[39m(y)\n\u001b[1;32m     12\u001b[0m \u001b[38;5;28mprint\u001b[39m(a\u001b[38;5;241m.\u001b[39mgrad)\n",
      "Cell \u001b[0;32mIn[394], line 33\u001b[0m, in \u001b[0;36mVariable.backward\u001b[0;34m(self, retain_grad)\u001b[0m\n\u001b[1;32m     30\u001b[0m         seen_set\u001b[38;5;241m.\u001b[39madd(f)\n\u001b[1;32m     31\u001b[0m         funcs\u001b[38;5;241m.\u001b[39msort(key\u001b[38;5;241m=\u001b[39m\u001b[38;5;28;01mlambda\u001b[39;00m x: x\u001b[38;5;241m.\u001b[39mgeneration) \n\u001b[0;32m---> 33\u001b[0m add_func(\u001b[38;5;28mself\u001b[39m\u001b[38;5;241m.\u001b[39mcreator)\n\u001b[1;32m     35\u001b[0m \u001b[38;5;28;01mwhile\u001b[39;00m funcs: \n\u001b[1;32m     36\u001b[0m     f \u001b[38;5;241m=\u001b[39m funcs\u001b[38;5;241m.\u001b[39mpop()\n",
      "Cell \u001b[0;32mIn[394], line 31\u001b[0m, in \u001b[0;36mVariable.backward.<locals>.add_func\u001b[0;34m(f)\u001b[0m\n\u001b[1;32m     29\u001b[0m funcs\u001b[38;5;241m.\u001b[39mappend(f)\n\u001b[1;32m     30\u001b[0m seen_set\u001b[38;5;241m.\u001b[39madd(f)\n\u001b[0;32m---> 31\u001b[0m funcs\u001b[38;5;241m.\u001b[39msort(key\u001b[38;5;241m=\u001b[39m\u001b[38;5;28;01mlambda\u001b[39;00m x: x\u001b[38;5;241m.\u001b[39mgeneration)\n",
      "Cell \u001b[0;32mIn[394], line 31\u001b[0m, in \u001b[0;36mVariable.backward.<locals>.add_func.<locals>.<lambda>\u001b[0;34m(x)\u001b[0m\n\u001b[1;32m     29\u001b[0m funcs\u001b[38;5;241m.\u001b[39mappend(f)\n\u001b[1;32m     30\u001b[0m seen_set\u001b[38;5;241m.\u001b[39madd(f)\n\u001b[0;32m---> 31\u001b[0m funcs\u001b[38;5;241m.\u001b[39msort(key\u001b[38;5;241m=\u001b[39m\u001b[38;5;28;01mlambda\u001b[39;00m x: x\u001b[38;5;241m.\u001b[39mgeneration)\n",
      "\u001b[0;31mAttributeError\u001b[0m: 'NoneType' object has no attribute 'generation'"
     ]
    }
   ],
   "source": [
    "# example\n",
    "\n",
    "a = Variable(np.array(3.0))\n",
    "b = Variable(np.array(2.0))\n",
    "c = Variable(np.array(1.0))\n",
    "\n",
    "y = add(mul(a,b), c)\n",
    "\n",
    "y.backward()\n",
    "\n",
    "print(y)\n",
    "print(a.grad)\n",
    "print(b.grad)"
   ]
  },
  {
   "cell_type": "code",
   "execution_count": 477,
   "id": "b370cade-f9a9-4ccc-a097-98977282f5a8",
   "metadata": {},
   "outputs": [],
   "source": [
    "# rather than applying 'add' or 'mul', what about using '+' or '*'?\n",
    "# we go with operator overload\n",
    "\n",
    "class Variable:\n",
    "    def __init__(self, data, name=None):\n",
    "        if data is not None:\n",
    "            if not isinstance(data, np.ndarray):\n",
    "                raise TypeError('{} is not supported.'.format(type(data)))\n",
    "        \n",
    "        self.data = data\n",
    "        self.name = name \n",
    "        self.grad = None\n",
    "        self.creator = None\n",
    "        self.generation = 0 \n",
    "\n",
    "    def set_creator(self, func):\n",
    "        self.creator = func\n",
    "        self.generation = func.generation + 1 \n",
    "\n",
    "    def backward(self, retain_grad=False): \n",
    "        if self.grad is None: \n",
    "            self.grad = np.ones_like(self.data)\n",
    "\n",
    "        funcs = [] \n",
    "        seen_set = set() \n",
    "\n",
    "        def add_func(f): \n",
    "            if f not in seen_set:\n",
    "                funcs.append(f)\n",
    "                seen_set.add(f)\n",
    "                funcs.sort(key=lambda x: x.generation) \n",
    "\n",
    "        add_func(self.creator)\n",
    "        \n",
    "        while funcs: \n",
    "            f = funcs.pop()\n",
    "            gys = [output().grad for output in f.outputs] \n",
    "            gxs = f.backward(*gys) \n",
    "            if not isinstance(gxs, tuple): \n",
    "                gxs = (gxs,) \n",
    "            \n",
    "            for x, gx in zip(f.inputs, gxs): \n",
    "                if x.grad is None: \n",
    "                    x.grad = gx\n",
    "                else: \n",
    "                    x.grad = x.grad + gx \n",
    "                    \n",
    "                if x.creator is not None: \n",
    "                    add_func(x.creator)\n",
    "\n",
    "            if not retain_grad:\n",
    "                for y in f.outputs:\n",
    "                    y().grad = None \n",
    "\n",
    "    def cleargrad(self):\n",
    "        self.grad = None\n",
    "\n",
    "    @property \n",
    "    def shape(self): \n",
    "        return self.data.shape\n",
    "\n",
    "    @property \n",
    "    def ndim(self): \n",
    "        return self.data.ndim\n",
    "\n",
    "    @property \n",
    "    def size(self):\n",
    "        return self.data.size\n",
    "\n",
    "    @property \n",
    "    def dtype(self):\n",
    "        return self.data.dtype\n",
    "\n",
    "    def __len__(self):\n",
    "        return len(self.data)\n",
    "\n",
    "    def __repr__(self):\n",
    "        if self.data is None:\n",
    "            return 'variable(None)'\n",
    "        p = str(self.data).replace('\\n', '\\n' + ' ' * 9)\n",
    "        return 'variable(' + p + ')'\n",
    "\n",
    "    def __mul__(self, other):\n",
    "        return mul(self, other)"
   ]
  },
  {
   "cell_type": "code",
   "execution_count": 396,
   "id": "14de8305-e9b6-4e2c-b6bc-61b112acd07d",
   "metadata": {},
   "outputs": [],
   "source": [
    "# there is another simple way to do it. :(\n",
    "\n",
    "Variable.__mul__ = mul\n",
    "Variable.__add__ = add"
   ]
  },
  {
   "cell_type": "code",
   "execution_count": 398,
   "id": "99ca7f07-e600-4395-9724-fda68ff2a474",
   "metadata": {},
   "outputs": [
    {
     "name": "stdout",
     "output_type": "stream",
     "text": [
      "variable(6.0)\n"
     ]
    },
    {
     "ename": "AttributeError",
     "evalue": "'NoneType' object has no attribute 'generation'",
     "output_type": "error",
     "traceback": [
      "\u001b[0;31m---------------------------------------------------------------------------\u001b[0m",
      "\u001b[0;31mAttributeError\u001b[0m                            Traceback (most recent call last)",
      "Cell \u001b[0;32mIn[398], line 16\u001b[0m\n\u001b[1;32m     13\u001b[0m \u001b[38;5;66;03m#y = add(mul(a,b), c)\u001b[39;00m\n\u001b[1;32m     14\u001b[0m y \u001b[38;5;241m=\u001b[39m a \u001b[38;5;241m*\u001b[39m b \u001b[38;5;241m+\u001b[39m c\n\u001b[0;32m---> 16\u001b[0m y\u001b[38;5;241m.\u001b[39mbackward()\n\u001b[1;32m     18\u001b[0m \u001b[38;5;28mprint\u001b[39m(y)\n\u001b[1;32m     19\u001b[0m \u001b[38;5;28mprint\u001b[39m(a\u001b[38;5;241m.\u001b[39mgrad)\n",
      "Cell \u001b[0;32mIn[394], line 33\u001b[0m, in \u001b[0;36mVariable.backward\u001b[0;34m(self, retain_grad)\u001b[0m\n\u001b[1;32m     30\u001b[0m         seen_set\u001b[38;5;241m.\u001b[39madd(f)\n\u001b[1;32m     31\u001b[0m         funcs\u001b[38;5;241m.\u001b[39msort(key\u001b[38;5;241m=\u001b[39m\u001b[38;5;28;01mlambda\u001b[39;00m x: x\u001b[38;5;241m.\u001b[39mgeneration) \n\u001b[0;32m---> 33\u001b[0m add_func(\u001b[38;5;28mself\u001b[39m\u001b[38;5;241m.\u001b[39mcreator)\n\u001b[1;32m     35\u001b[0m \u001b[38;5;28;01mwhile\u001b[39;00m funcs: \n\u001b[1;32m     36\u001b[0m     f \u001b[38;5;241m=\u001b[39m funcs\u001b[38;5;241m.\u001b[39mpop()\n",
      "Cell \u001b[0;32mIn[394], line 31\u001b[0m, in \u001b[0;36mVariable.backward.<locals>.add_func\u001b[0;34m(f)\u001b[0m\n\u001b[1;32m     29\u001b[0m funcs\u001b[38;5;241m.\u001b[39mappend(f)\n\u001b[1;32m     30\u001b[0m seen_set\u001b[38;5;241m.\u001b[39madd(f)\n\u001b[0;32m---> 31\u001b[0m funcs\u001b[38;5;241m.\u001b[39msort(key\u001b[38;5;241m=\u001b[39m\u001b[38;5;28;01mlambda\u001b[39;00m x: x\u001b[38;5;241m.\u001b[39mgeneration)\n",
      "Cell \u001b[0;32mIn[394], line 31\u001b[0m, in \u001b[0;36mVariable.backward.<locals>.add_func.<locals>.<lambda>\u001b[0;34m(x)\u001b[0m\n\u001b[1;32m     29\u001b[0m funcs\u001b[38;5;241m.\u001b[39mappend(f)\n\u001b[1;32m     30\u001b[0m seen_set\u001b[38;5;241m.\u001b[39madd(f)\n\u001b[0;32m---> 31\u001b[0m funcs\u001b[38;5;241m.\u001b[39msort(key\u001b[38;5;241m=\u001b[39m\u001b[38;5;28;01mlambda\u001b[39;00m x: x\u001b[38;5;241m.\u001b[39mgeneration)\n",
      "\u001b[0;31mAttributeError\u001b[0m: 'NoneType' object has no attribute 'generation'"
     ]
    }
   ],
   "source": [
    "# example\n",
    "\n",
    "a = Variable(np.array(3.0))\n",
    "b = Variable(np.array(2.0))\n",
    "y = a * b\n",
    "print(y)\n",
    "\n",
    "# same calculation above\n",
    "a = Variable(np.array(3.0))\n",
    "b = Variable(np.array(2.0))\n",
    "c = Variable(np.array(1.0))\n",
    "\n",
    "#y = add(mul(a,b), c)\n",
    "y = a * b + c\n",
    "\n",
    "y.backward()\n",
    "\n",
    "print(y)\n",
    "print(a.grad)\n",
    "print(b.grad)"
   ]
  },
  {
   "cell_type": "markdown",
   "id": "884edde1-54ca-4b0d-951d-ea05ba64e511",
   "metadata": {},
   "source": [
    "Step 21 make it possible to do operations like Variable * ndarray or Variable + 3"
   ]
  },
  {
   "cell_type": "code",
   "execution_count": 463,
   "id": "bcfc8940-1ad2-4950-b583-e0c596c12023",
   "metadata": {},
   "outputs": [],
   "source": [
    "# how can we make Variable * np.array(2.0) workable?\n",
    "# have np.array wear Variable dress!\n",
    "\n",
    "def as_variable(obj): # this function makes obj a Variable\n",
    "    if isinstance(obj, Variable):\n",
    "        return obj\n",
    "    return Variable(obj)\n",
    "\n",
    "class Function: \n",
    "    def __init__(self):\n",
    "        self.generation = 0\n",
    "    \n",
    "    def __call__(self, *inputs):\n",
    "        inputs = [as_variable(x) for x in inputs] # convert all elements in inputs into Variable with as_variable()\n",
    "        \n",
    "        xs = [x.data for x in inputs]\n",
    "        ys = self.forward(*xs)\n",
    "        if not isinstance(ys, tuple):\n",
    "                ys = (ys,)\n",
    "        outputs = [Variable(as_array(y)) for y in ys]\n",
    "\n",
    "        if Config.enable_backprop: \n",
    "            self.generation = max([x.generation for x in inputs]) \n",
    "        \n",
    "            for output in outputs:\n",
    "                output.set_creator(self) \n",
    "            \n",
    "            self.inputs = inputs\n",
    "            self.outputs = [weakref.ref(output) for output in outputs] \n",
    "            \n",
    "        return outputs if len(outputs) > 1 else outputs[0]\n",
    "    \n",
    "    def forward(self, xs): \n",
    "        raise NotImplementedError()\n",
    "        \n",
    "    def backward(self, gys): \n",
    "        raise NotImplementedError()\n",
    "\n"
   ]
  },
  {
   "cell_type": "code",
   "execution_count": 465,
   "id": "ca92dc3b-136e-4a59-840b-f7c714319303",
   "metadata": {},
   "outputs": [
    {
     "name": "stdout",
     "output_type": "stream",
     "text": [
      "variable(5.0)\n"
     ]
    }
   ],
   "source": [
    "# example\n",
    "\n",
    "x = Variable(np.array(2.0))\n",
    "y = x + np.array(3.0)\n",
    "print(y)"
   ]
  },
  {
   "cell_type": "code",
   "execution_count": 481,
   "id": "91e0673b-a3e5-411c-87d0-c463a049a289",
   "metadata": {},
   "outputs": [],
   "source": [
    "# what about Variable + 3.0?\n",
    "\n",
    "def add(x0, x1):\n",
    "    x1 = as_array(x1) # ex. int/float -> ndarray\n",
    "    return Add()(x0, x1) # ndarray -> Variable"
   ]
  },
  {
   "cell_type": "code",
   "execution_count": 483,
   "id": "e4c7efbb-8fe6-4b1e-8a0f-4e11d706578d",
   "metadata": {},
   "outputs": [
    {
     "ename": "TypeError",
     "evalue": "unsupported operand type(s) for +: 'Variable' and 'float'",
     "output_type": "error",
     "traceback": [
      "\u001b[0;31m---------------------------------------------------------------------------\u001b[0m",
      "\u001b[0;31mTypeError\u001b[0m                                 Traceback (most recent call last)",
      "Cell \u001b[0;32mIn[483], line 4\u001b[0m\n\u001b[1;32m      1\u001b[0m \u001b[38;5;66;03m# example\u001b[39;00m\n\u001b[1;32m      3\u001b[0m x \u001b[38;5;241m=\u001b[39m Variable(np\u001b[38;5;241m.\u001b[39marray(\u001b[38;5;241m2.0\u001b[39m))\n\u001b[0;32m----> 4\u001b[0m y \u001b[38;5;241m=\u001b[39m x \u001b[38;5;241m+\u001b[39m \u001b[38;5;241m3.0\u001b[39m\n\u001b[1;32m      5\u001b[0m \u001b[38;5;28mprint\u001b[39m(y)\n",
      "\u001b[0;31mTypeError\u001b[0m: unsupported operand type(s) for +: 'Variable' and 'float'"
     ]
    }
   ],
   "source": [
    "# example\n",
    "\n",
    "x = Variable(np.array(2.0))\n",
    "y = x + 3.0\n",
    "print(y)"
   ]
  },
  {
   "cell_type": "code",
   "execution_count": 485,
   "id": "994d65ec-b7e7-4a42-8072-ae68c74b5446",
   "metadata": {},
   "outputs": [],
   "source": [
    "# What if int/float is on the left of the operator?\n",
    "# __mul__ for the left one, and __rmul__ for the right one. \n",
    "# Let's define __rmul__ as well so that int/float can be placed on left or right.\n",
    "\n",
    "# add and mul are interoperable, so just assign the same function for reverse function. (__r __)\n",
    "Variable.__add__ = add\n",
    "Variable.__radd__ = add\n",
    "Variable.__mul__ = mul\n",
    "Variable.__rmul__ = mul"
   ]
  },
  {
   "cell_type": "code",
   "execution_count": 487,
   "id": "8ea8de28-8bac-4f34-a9a6-6541de75280f",
   "metadata": {},
   "outputs": [
    {
     "ename": "TypeError",
     "evalue": "<class 'float'> is not supported.",
     "output_type": "error",
     "traceback": [
      "\u001b[0;31m---------------------------------------------------------------------------\u001b[0m",
      "\u001b[0;31mTypeError\u001b[0m                                 Traceback (most recent call last)",
      "Cell \u001b[0;32mIn[487], line 4\u001b[0m\n\u001b[1;32m      1\u001b[0m \u001b[38;5;66;03m# example\u001b[39;00m\n\u001b[1;32m      3\u001b[0m x \u001b[38;5;241m=\u001b[39m Variable(np\u001b[38;5;241m.\u001b[39marray(\u001b[38;5;241m2.0\u001b[39m))\n\u001b[0;32m----> 4\u001b[0m y \u001b[38;5;241m=\u001b[39m \u001b[38;5;241m3.0\u001b[39m \u001b[38;5;241m*\u001b[39m x \u001b[38;5;241m+\u001b[39m \u001b[38;5;241m1.0\u001b[39m\n\u001b[1;32m      5\u001b[0m \u001b[38;5;28mprint\u001b[39m(y)\n",
      "Cell \u001b[0;32mIn[417], line 13\u001b[0m, in \u001b[0;36mmul\u001b[0;34m(x0, x1)\u001b[0m\n\u001b[1;32m     12\u001b[0m \u001b[38;5;28;01mdef\u001b[39;00m \u001b[38;5;21mmul\u001b[39m(x0, x1): \u001b[38;5;66;03m# make multiplication work with mul()\u001b[39;00m\n\u001b[0;32m---> 13\u001b[0m     \u001b[38;5;28;01mreturn\u001b[39;00m Mul()(x0, x1)\n",
      "Cell \u001b[0;32mIn[463], line 14\u001b[0m, in \u001b[0;36mFunction.__call__\u001b[0;34m(self, *inputs)\u001b[0m\n\u001b[1;32m     13\u001b[0m \u001b[38;5;28;01mdef\u001b[39;00m \u001b[38;5;21m__call__\u001b[39m(\u001b[38;5;28mself\u001b[39m, \u001b[38;5;241m*\u001b[39minputs):\n\u001b[0;32m---> 14\u001b[0m     inputs \u001b[38;5;241m=\u001b[39m [as_variable(x) \u001b[38;5;28;01mfor\u001b[39;00m x \u001b[38;5;129;01min\u001b[39;00m inputs] \u001b[38;5;66;03m# convert all elements in inputs into Variable with as_variable()\u001b[39;00m\n\u001b[1;32m     16\u001b[0m     xs \u001b[38;5;241m=\u001b[39m [x\u001b[38;5;241m.\u001b[39mdata \u001b[38;5;28;01mfor\u001b[39;00m x \u001b[38;5;129;01min\u001b[39;00m inputs]\n\u001b[1;32m     17\u001b[0m     ys \u001b[38;5;241m=\u001b[39m \u001b[38;5;28mself\u001b[39m\u001b[38;5;241m.\u001b[39mforward(\u001b[38;5;241m*\u001b[39mxs)\n",
      "Cell \u001b[0;32mIn[463], line 7\u001b[0m, in \u001b[0;36mas_variable\u001b[0;34m(obj)\u001b[0m\n\u001b[1;32m      5\u001b[0m \u001b[38;5;28;01mif\u001b[39;00m \u001b[38;5;28misinstance\u001b[39m(obj, Variable):\n\u001b[1;32m      6\u001b[0m     \u001b[38;5;28;01mreturn\u001b[39;00m obj\n\u001b[0;32m----> 7\u001b[0m \u001b[38;5;28;01mreturn\u001b[39;00m Variable(obj)\n",
      "Cell \u001b[0;32mIn[477], line 8\u001b[0m, in \u001b[0;36mVariable.__init__\u001b[0;34m(self, data, name)\u001b[0m\n\u001b[1;32m      6\u001b[0m \u001b[38;5;28;01mif\u001b[39;00m data \u001b[38;5;129;01mis\u001b[39;00m \u001b[38;5;129;01mnot\u001b[39;00m \u001b[38;5;28;01mNone\u001b[39;00m:\n\u001b[1;32m      7\u001b[0m     \u001b[38;5;28;01mif\u001b[39;00m \u001b[38;5;129;01mnot\u001b[39;00m \u001b[38;5;28misinstance\u001b[39m(data, np\u001b[38;5;241m.\u001b[39mndarray):\n\u001b[0;32m----> 8\u001b[0m         \u001b[38;5;28;01mraise\u001b[39;00m \u001b[38;5;167;01mTypeError\u001b[39;00m(\u001b[38;5;124m'\u001b[39m\u001b[38;5;132;01m{}\u001b[39;00m\u001b[38;5;124m is not supported.\u001b[39m\u001b[38;5;124m'\u001b[39m\u001b[38;5;241m.\u001b[39mformat(\u001b[38;5;28mtype\u001b[39m(data)))\n\u001b[1;32m     10\u001b[0m \u001b[38;5;28mself\u001b[39m\u001b[38;5;241m.\u001b[39mdata \u001b[38;5;241m=\u001b[39m data\n\u001b[1;32m     11\u001b[0m \u001b[38;5;28mself\u001b[39m\u001b[38;5;241m.\u001b[39mname \u001b[38;5;241m=\u001b[39m name \n",
      "\u001b[0;31mTypeError\u001b[0m: <class 'float'> is not supported."
     ]
    }
   ],
   "source": [
    "# example\n",
    "\n",
    "x = Variable(np.array(2.0))\n",
    "y = 3.0 * x + 1.0\n",
    "print(y)"
   ]
  },
  {
   "cell_type": "markdown",
   "id": "7b8a4542-edf4-4b61-841e-0d4c858c650b",
   "metadata": {},
   "source": [
    "Step 22 Add more operators "
   ]
  },
  {
   "cell_type": "code",
   "execution_count": 492,
   "id": "f960afd9-4ead-42b6-a104-354f6cc5754a",
   "metadata": {},
   "outputs": [],
   "source": [
    "# Negate\n",
    "\n",
    "class Neg(Function):\n",
    "    def forward(self, x):\n",
    "        return -x\n",
    "\n",
    "    def backward(self, gy):\n",
    "        return -gy\n",
    "\n",
    "def neg(x):\n",
    "    return Neg()(x)\n",
    "\n",
    "Variable.__neg__ = neg\n"
   ]
  },
  {
   "cell_type": "code",
   "execution_count": 494,
   "id": "e9dd3fc6-c4c3-461f-b593-31c802878b54",
   "metadata": {},
   "outputs": [
    {
     "name": "stdout",
     "output_type": "stream",
     "text": [
      "variable(-2.0)\n"
     ]
    }
   ],
   "source": [
    "# example\n",
    "\n",
    "x = Variable(np.array(2.0))\n",
    "y = -x\n",
    "print(y)"
   ]
  },
  {
   "cell_type": "code",
   "execution_count": 498,
   "id": "bb9f4c84-d4e1-463e-9d85-fdc3d8acd287",
   "metadata": {},
   "outputs": [],
   "source": [
    "# Subtraction\n",
    "\n",
    "class Sub(Function):\n",
    "    def forward(self, x0, x1):\n",
    "        y = x0 - x1\n",
    "        return y\n",
    "\n",
    "    def backward(self, gy):\n",
    "        return gy, -gy\n",
    "\n",
    "def sub(x0, x1):\n",
    "    x1 = as_array(x1)\n",
    "    return Sub()(x0, x1)\n",
    "\n",
    "Variable.__sub__ = sub"
   ]
  },
  {
   "cell_type": "code",
   "execution_count": 502,
   "id": "ea011f33-8f7e-45f8-9498-84b3c2fcbf59",
   "metadata": {},
   "outputs": [],
   "source": [
    "def rsub(x0, x1):\n",
    "    x1 = as_array(x1)\n",
    "    return Sub()(x1, x0)\n",
    "\n",
    "Variable.__rsub__ = rsub"
   ]
  },
  {
   "cell_type": "code",
   "execution_count": 504,
   "id": "32552ab0-4f94-4673-a97a-ec762fe2faac",
   "metadata": {},
   "outputs": [
    {
     "name": "stdout",
     "output_type": "stream",
     "text": [
      "variable(0.0)\n",
      "variable(1.0)\n"
     ]
    }
   ],
   "source": [
    "# example\n",
    "\n",
    "x = Variable(np.array(2.0))\n",
    "y1 = 2.0 - x\n",
    "y2 = x - 1.0\n",
    "print(y1)\n",
    "print(y2)"
   ]
  },
  {
   "cell_type": "code",
   "execution_count": 506,
   "id": "2ea76c8b-1b1d-4b88-9058-9cd6bf51a364",
   "metadata": {},
   "outputs": [],
   "source": [
    "# Division\n",
    "\n",
    "class Div(Function):\n",
    "    def forward(self, x0, x1):\n",
    "        y = x0 / x1\n",
    "        return y\n",
    "\n",
    "    def backward(self, gy):\n",
    "        x0, x1 = self.inputs[0].data, self.inputs[1].data\n",
    "        gx0 = gy / x1\n",
    "        gx1 = gy * (-x0 / x1 ** 2)\n",
    "        return gx0, gx1\n",
    "\n",
    "def div(x0, x1):\n",
    "    x1 = as_array(x1)\n",
    "    return Div()(x0, x1)\n",
    "\n",
    "def rdiv(x0, x1):\n",
    "    x1 = as_array(x1)\n",
    "    return Div()(x1, x0)\n",
    "\n",
    "Variable.__truediv__ = div\n",
    "Variable.__rtruediv__ = rdiv\n"
   ]
  },
  {
   "cell_type": "code",
   "execution_count": 510,
   "id": "dc2cfde0-6185-44e1-b2f4-2b3832ead6e5",
   "metadata": {},
   "outputs": [],
   "source": [
    "# power\n",
    "\n",
    "class Pow(Function):\n",
    "    def __init__(self, c):\n",
    "        self.c = c\n",
    "\n",
    "    def forward(self, x):\n",
    "        y = x ** self.c\n",
    "        return y\n",
    "\n",
    "    def backward(self, gy):\n",
    "        x = self.inputs[0].data\n",
    "        c = self.c\n",
    "        gx = c * x ** (c - 1) * gy\n",
    "        return gx\n",
    "\n",
    "def pow(x, c):\n",
    "    return Pow(c)(x)\n",
    "\n",
    "Variable.__pow__ = pow"
   ]
  },
  {
   "cell_type": "code",
   "execution_count": 512,
   "id": "8d657daf-8d2d-4694-8d2a-5791eb72a1bd",
   "metadata": {},
   "outputs": [
    {
     "name": "stdout",
     "output_type": "stream",
     "text": [
      "variable(8.0)\n"
     ]
    }
   ],
   "source": [
    "# example\n",
    "\n",
    "x = Variable(np.array(2.0))\n",
    "y = x ** 3\n",
    "print(y)"
   ]
  },
  {
   "cell_type": "code",
   "execution_count": null,
   "id": "c3a1bb33-b0fb-442b-8d0f-1e12839dbea8",
   "metadata": {},
   "outputs": [],
   "source": []
  }
 ],
 "metadata": {
  "kernelspec": {
   "display_name": "Python [conda env:base] *",
   "language": "python",
   "name": "conda-base-py"
  },
  "language_info": {
   "codemirror_mode": {
    "name": "ipython",
    "version": 3
   },
   "file_extension": ".py",
   "mimetype": "text/x-python",
   "name": "python",
   "nbconvert_exporter": "python",
   "pygments_lexer": "ipython3",
   "version": "3.12.7"
  }
 },
 "nbformat": 4,
 "nbformat_minor": 5
}
