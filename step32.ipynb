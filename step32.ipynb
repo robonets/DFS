{
 "cells": [
  {
   "cell_type": "markdown",
   "id": "fef36cff-7c4e-425e-ae9c-d80111aa41d7",
   "metadata": {},
   "source": [
    "So far, grad refers to ndarray instance\n",
    "Now, we go grad refers a Variable instance so that we can get computational graph for grad."
   ]
  },
  {
   "cell_type": "code",
   "execution_count": null,
   "id": "1c94ce60-e875-400b-aee3-00abcbb57fee",
   "metadata": {},
   "outputs": [],
   "source": []
  }
 ],
 "metadata": {
  "kernelspec": {
   "display_name": "Python [conda env:base] *",
   "language": "python",
   "name": "conda-base-py"
  },
  "language_info": {
   "codemirror_mode": {
    "name": "ipython",
    "version": 3
   },
   "file_extension": ".py",
   "mimetype": "text/x-python",
   "name": "python",
   "nbconvert_exporter": "python",
   "pygments_lexer": "ipython3",
   "version": "3.12.7"
  }
 },
 "nbformat": 4,
 "nbformat_minor": 5
}
