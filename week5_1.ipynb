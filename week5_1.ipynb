{
 "cells": [
  {
   "cell_type": "code",
   "execution_count": 1,
   "id": "7646a5c8-2dbf-45a4-ad9e-efc370623989",
   "metadata": {},
   "outputs": [],
   "source": [
    "import weakref"
   ]
  },
  {
   "cell_type": "code",
   "execution_count": 2,
   "id": "42ff4315-5b4f-422f-9cee-4484317d9baa",
   "metadata": {},
   "outputs": [],
   "source": [
    "import numpy as np"
   ]
  },
  {
   "cell_type": "code",
   "execution_count": 3,
   "id": "0b576a5b-6550-4d3a-b3a5-d9e4a2e8ff7b",
   "metadata": {},
   "outputs": [],
   "source": [
    "# but Python results in float after applying operations on 0-dimension ndarray.\n",
    "# we need to deal with this issue.\n",
    "\n",
    "# for make it easy, define a function\n",
    "\n",
    "def as_array(x):\n",
    "    if np.isscalar(x): # int and float are scalar\n",
    "        return np.array(x)\n",
    "    return x"
   ]
  },
  {
   "cell_type": "code",
   "execution_count": 4,
   "id": "536197f5-4da0-4013-9503-0a5c7dc8ef2d",
   "metadata": {},
   "outputs": [],
   "source": [
    "# rather than applying 'add' or 'mul', what about using '+' or '*'?\n",
    "# we go with operator overload\n",
    "\n",
    "class Variable:\n",
    "    def __init__(self, data, name=None):\n",
    "        if data is not None:\n",
    "            if not isinstance(data, np.ndarray):\n",
    "                #raise TypeError('{} is not supported.'.format(type(data)))\n",
    "                data = np.array(data)\n",
    "                \n",
    "        self.data = data\n",
    "        self.name = name \n",
    "        self.grad = None\n",
    "        self.creator = None\n",
    "        self.generation = 0 \n",
    "\n",
    "    def set_creator(self, func):\n",
    "        self.creator = func\n",
    "        self.generation = func.generation + 1 \n",
    "\n",
    "    def backward(self, retain_grad=False): \n",
    "        if self.grad is None: \n",
    "            self.grad = np.ones_like(self.data)\n",
    "\n",
    "        funcs = [] \n",
    "        seen_set = set() \n",
    "\n",
    "        def add_func(f): \n",
    "            if f not in seen_set:\n",
    "                funcs.append(f)\n",
    "                seen_set.add(f)\n",
    "                funcs.sort(key=lambda x: x.generation) \n",
    "\n",
    "        add_func(self.creator)\n",
    "        \n",
    "        while funcs: \n",
    "            f = funcs.pop()\n",
    "            gys = [output().grad for output in f.outputs] \n",
    "            gxs = f.backward(*gys) \n",
    "            if not isinstance(gxs, tuple): \n",
    "                gxs = (gxs,) \n",
    "            \n",
    "            for x, gx in zip(f.inputs, gxs): \n",
    "                if x.grad is None: \n",
    "                    x.grad = gx\n",
    "                else: \n",
    "                    x.grad = x.grad + gx \n",
    "                    \n",
    "                if x.creator is not None: \n",
    "                    add_func(x.creator)\n",
    "\n",
    "            if not retain_grad:\n",
    "                for y in f.outputs:\n",
    "                    y().grad = None \n",
    "\n",
    "    def cleargrad(self):\n",
    "        self.grad = None\n",
    "\n",
    "    @property \n",
    "    def shape(self): \n",
    "        return self.data.shape\n",
    "\n",
    "    @property \n",
    "    def ndim(self): \n",
    "        return self.data.ndim\n",
    "\n",
    "    @property \n",
    "    def size(self):\n",
    "        return self.data.size\n",
    "\n",
    "    @property \n",
    "    def dtype(self):\n",
    "        return self.data.dtype\n",
    "\n",
    "    def __len__(self):\n",
    "        return len(self.data)\n",
    "\n",
    "    def __repr__(self):\n",
    "        if self.data is None:\n",
    "            return 'variable(None)'\n",
    "        p = str(self.data).replace('\\n', '\\n' + ' ' * 9)\n",
    "        return 'variable(' + p + ')'\n",
    "\n",
    "    def __mul__(self, other):\n",
    "        return mul(self, other)"
   ]
  },
  {
   "cell_type": "code",
   "execution_count": 5,
   "id": "bb8ca2b6-a311-4257-90bf-ec41f8714582",
   "metadata": {},
   "outputs": [],
   "source": [
    "# We need forward prop results to do back prop. So, each result (inputs to functions) must be retained till back prop.\n",
    "# Unlike ML, inference is only a process of forward prop. So, we don't need to keep all data in the middle.\n",
    "\n",
    "# Here comes the mode without back prop!\n",
    "\n",
    "class Config:\n",
    "    enable_backprop = True\n"
   ]
  },
  {
   "cell_type": "code",
   "execution_count": 6,
   "id": "506887e6-fd53-40aa-b528-45dabd79dc02",
   "metadata": {},
   "outputs": [],
   "source": [
    "# how can we make Variable * np.array(2.0) workable?\n",
    "# have np.array wear Variable dress!\n",
    "\n",
    "def as_variable(obj): # this function makes obj a Variable\n",
    "    if isinstance(obj, Variable):\n",
    "        return obj\n",
    "    return Variable(obj)\n",
    "\n",
    "class Function: \n",
    "    def __init__(self):\n",
    "        self.generation = 0\n",
    "    \n",
    "    def __call__(self, *inputs):\n",
    "        inputs = [as_variable(x) for x in inputs] # convert all elements in inputs into Variable with as_variable()\n",
    "        \n",
    "        xs = [x.data for x in inputs]\n",
    "        ys = self.forward(*xs)\n",
    "        if not isinstance(ys, tuple):\n",
    "                ys = (ys,)\n",
    "        outputs = [Variable(as_array(y)) for y in ys]\n",
    "\n",
    "        if Config.enable_backprop: \n",
    "            self.generation = max([x.generation for x in inputs]) \n",
    "        \n",
    "            for output in outputs:\n",
    "                output.set_creator(self) \n",
    "            \n",
    "            self.inputs = inputs\n",
    "            self.outputs = [weakref.ref(output) for output in outputs] \n",
    "            \n",
    "        return outputs if len(outputs) > 1 else outputs[0]\n",
    "    \n",
    "    def forward(self, xs): \n",
    "        raise NotImplementedError()\n",
    "        \n",
    "    def backward(self, gys): \n",
    "        raise NotImplementedError()\n"
   ]
  },
  {
   "cell_type": "code",
   "execution_count": 7,
   "id": "f8c7b40e-6e1f-4473-8bde-0d61e00e4baa",
   "metadata": {},
   "outputs": [],
   "source": [
    "# '*' first\n",
    "\n",
    "class Mul(Function): # define forward and backward prop function\n",
    "    def forward(self, x0, x1):\n",
    "        y = x0 * x1\n",
    "        return y\n",
    "\n",
    "    def backward(self, gy):\n",
    "        x0, x1 = self.inputs[0].data, self.inputs[1].data\n",
    "        return gy*x1, gy*x0\n",
    "\n",
    "def mul(x0, x1): # make multiplication work with mul()\n",
    "    return Mul()(x0, x1)"
   ]
  },
  {
   "cell_type": "code",
   "execution_count": 8,
   "id": "f282810b-4b7b-48b7-9ba4-0898df3e2a19",
   "metadata": {},
   "outputs": [],
   "source": [
    "# Improvement in backward prop\n",
    "# SISO (single Variable) -> MIMO (list or tuple of Variables)\n",
    "\n",
    "class Add(Function):\n",
    "    def forward(self, x0, x1): # two inputs, one output\n",
    "        y = x0 + x1\n",
    "        return y\n",
    "    \n",
    "    def backward(self, gy): # one input, two outputs\n",
    "        return gy, gy"
   ]
  },
  {
   "cell_type": "code",
   "execution_count": 9,
   "id": "fa8f999f-92da-417b-bb8b-772eb6f34588",
   "metadata": {},
   "outputs": [],
   "source": [
    "# what about Variable + 3.0?\n",
    "\n",
    "def add(x0, x1):\n",
    "    x1 = as_array(x1) # ex. int/float -> ndarray\n",
    "    return Add()(x0, x1) # ndarray -> Variable"
   ]
  },
  {
   "cell_type": "code",
   "execution_count": 10,
   "id": "05931353-dc1d-4844-882d-ac01066fc006",
   "metadata": {},
   "outputs": [],
   "source": [
    "# What if int/float is on the left of the operator?\n",
    "# __mul__ for the left one, and __rmul__ for the right one. \n",
    "# Let's define __rmul__ as well so that int/float can be placed on left or right.\n",
    "\n",
    "# add and mul are interoperable, so just assign the same function for reverse function. (__r __)\n",
    "Variable.__add__ = add\n",
    "Variable.__radd__ = add\n",
    "Variable.__mul__ = mul\n",
    "Variable.__rmul__ = mul"
   ]
  },
  {
   "cell_type": "code",
   "execution_count": 11,
   "id": "778b807a-910a-47f0-8849-650eba956d89",
   "metadata": {},
   "outputs": [
    {
     "name": "stdout",
     "output_type": "stream",
     "text": [
      "variable(7.0)\n"
     ]
    }
   ],
   "source": [
    "# example\n",
    "\n",
    "x = Variable(np.array(2.0))\n",
    "y = 3.0 * x + 1.0\n",
    "print(y)"
   ]
  },
  {
   "cell_type": "code",
   "execution_count": 24,
   "id": "2bc7e6e8-c158-44c4-b77d-ea022e1b46d7",
   "metadata": {},
   "outputs": [],
   "source": [
    "# Negate\n",
    "\n",
    "class Neg(Function):\n",
    "    def forward(self, x):\n",
    "        return -x\n",
    "\n",
    "    def backward(self, gy):\n",
    "        return -gy\n",
    "\n",
    "def neg(x):\n",
    "    return Neg()(x)\n",
    "\n",
    "Variable.__neg__ = neg\n"
   ]
  },
  {
   "cell_type": "code",
   "execution_count": 26,
   "id": "7927af98-cc75-41b3-aa1d-c0fc6283bdd7",
   "metadata": {},
   "outputs": [
    {
     "name": "stdout",
     "output_type": "stream",
     "text": [
      "variable(-2.0)\n"
     ]
    }
   ],
   "source": [
    "# example\n",
    "\n",
    "x = Variable(np.array(2.0))\n",
    "y = -x\n",
    "print(y)"
   ]
  },
  {
   "cell_type": "code",
   "execution_count": 28,
   "id": "cc82e42f-2aa3-4dca-bf7b-fbb4f30491fa",
   "metadata": {},
   "outputs": [],
   "source": [
    "# Subtraction\n",
    "\n",
    "class Sub(Function):\n",
    "    def forward(self, x0, x1):\n",
    "        y = x0 - x1\n",
    "        return y\n",
    "\n",
    "    def backward(self, gy):\n",
    "        return gy, -gy\n",
    "\n",
    "def sub(x0, x1):\n",
    "    x1 = as_array(x1)\n",
    "    return Sub()(x0, x1)\n",
    "\n",
    "Variable.__sub__ = sub"
   ]
  },
  {
   "cell_type": "code",
   "execution_count": 30,
   "id": "7b961418-ba7a-48d4-87f4-fc45aa6219fd",
   "metadata": {},
   "outputs": [],
   "source": [
    "def rsub(x0, x1):\n",
    "    x1 = as_array(x1)\n",
    "    return Sub()(x1, x0)\n",
    "\n",
    "Variable.__rsub__ = rsub"
   ]
  },
  {
   "cell_type": "code",
   "execution_count": 32,
   "id": "82090f30-3d2c-4e6e-a758-2689094f7b7d",
   "metadata": {},
   "outputs": [
    {
     "name": "stdout",
     "output_type": "stream",
     "text": [
      "variable(0.0)\n",
      "variable(1.0)\n"
     ]
    }
   ],
   "source": [
    "# example\n",
    "\n",
    "x = Variable(np.array(2.0))\n",
    "y1 = 2.0 - x\n",
    "y2 = x - 1.0\n",
    "print(y1)\n",
    "print(y2)"
   ]
  },
  {
   "cell_type": "code",
   "execution_count": 34,
   "id": "ff806438-85ba-4720-a20f-f2245c2c7fca",
   "metadata": {},
   "outputs": [],
   "source": [
    "# Division\n",
    "\n",
    "class Div(Function):\n",
    "    def forward(self, x0, x1):\n",
    "        y = x0 / x1\n",
    "        return y\n",
    "\n",
    "    def backward(self, gy):\n",
    "        x0, x1 = self.inputs[0].data, self.inputs[1].data\n",
    "        gx0 = gy / x1\n",
    "        gx1 = gy * (-x0 / x1 ** 2)\n",
    "        return gx0, gx1\n",
    "\n",
    "def div(x0, x1):\n",
    "    x1 = as_array(x1)\n",
    "    return Div()(x0, x1)\n",
    "\n",
    "def rdiv(x0, x1):\n",
    "    x1 = as_array(x1)\n",
    "    return Div()(x1, x0)\n",
    "\n",
    "Variable.__truediv__ = div\n",
    "Variable.__rtruediv__ = rdiv\n"
   ]
  },
  {
   "cell_type": "code",
   "execution_count": 36,
   "id": "61070220-2b23-4885-976c-e3da10ba5fe2",
   "metadata": {},
   "outputs": [],
   "source": [
    "# power\n",
    "\n",
    "class Pow(Function):\n",
    "    def __init__(self, c):\n",
    "        self.c = c\n",
    "\n",
    "    def forward(self, x):\n",
    "        y = x ** self.c\n",
    "        return y\n",
    "\n",
    "    def backward(self, gy):\n",
    "        x = self.inputs[0].data\n",
    "        c = self.c\n",
    "        gx = c * x ** (c - 1) * gy\n",
    "        return gx\n",
    "\n",
    "def pow(x, c):\n",
    "    return Pow(c)(x)\n",
    "\n",
    "Variable.__pow__ = pow\n"
   ]
  },
  {
   "cell_type": "code",
   "execution_count": 38,
   "id": "672e9d81-12ba-4563-b102-28d158896afe",
   "metadata": {},
   "outputs": [
    {
     "name": "stdout",
     "output_type": "stream",
     "text": [
      "variable(8.0)\n"
     ]
    }
   ],
   "source": [
    "# example\n",
    "\n",
    "x = Variable(np.array(2.0))\n",
    "y = x ** 3\n",
    "print(y)"
   ]
  },
  {
   "cell_type": "code",
   "execution_count": null,
   "id": "de2bafa2-c86b-497a-97f9-606f2b886ccd",
   "metadata": {},
   "outputs": [],
   "source": []
  }
 ],
 "metadata": {
  "kernelspec": {
   "display_name": "Python [conda env:base] *",
   "language": "python",
   "name": "conda-base-py"
  },
  "language_info": {
   "codemirror_mode": {
    "name": "ipython",
    "version": 3
   },
   "file_extension": ".py",
   "mimetype": "text/x-python",
   "name": "python",
   "nbconvert_exporter": "python",
   "pygments_lexer": "ipython3",
   "version": "3.12.7"
  }
 },
 "nbformat": 4,
 "nbformat_minor": 5
}
