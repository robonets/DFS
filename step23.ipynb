{
 "cells": [
  {
   "cell_type": "markdown",
   "id": "fef36cff-7c4e-425e-ae9c-d80111aa41d7",
   "metadata": {},
   "source": [
    "Everything in a package (dezero/core_simple.py)"
   ]
  },
  {
   "cell_type": "code",
   "execution_count": 9,
   "id": "806d844d-7599-42ef-8e7c-12ce4c912f8c",
   "metadata": {},
   "outputs": [
    {
     "name": "stdout",
     "output_type": "stream",
     "text": [
      "variable(1.0)\n"
     ]
    }
   ],
   "source": [
    "import sys\n",
    "import os\n",
    "\"\"\"\n",
    "# Get the current working directory (should be Documents/DLS3/steps)\n",
    "cwd = os.getcwd()\n",
    "\n",
    "\n",
    "# The parent directory of cwd (Documents/DLS3)\n",
    "parent_dir = os.path.abspath(os.path.join(cwd, os.pardir))\n",
    "sys.path.append(parent_dir)\n",
    "#print(parent_dir)\n",
    "\"\"\"\n",
    "import numpy as np\n",
    "from dezero.core_simple import Variable\n",
    "\n",
    "x = Variable(np.array(1.0))\n",
    "print(x)\n"
   ]
  },
  {
   "cell_type": "code",
   "execution_count": 13,
   "id": "a5e01d94-36c1-43d6-b2ff-a8a9c5589796",
   "metadata": {},
   "outputs": [
    {
     "name": "stdout",
     "output_type": "stream",
     "text": [
      "variable(16.0)\n",
      "variable(8.0)\n"
     ]
    }
   ],
   "source": [
    "# Add import path for the dezero directory.\n",
    "if '__file__' in globals():\n",
    "    import os, sys\n",
    "    #sys.path.append(os.path.join(os.path.dirname(__file__), '..'))\n",
    "    sys.path.append(os.pardir)\n",
    "\n",
    "import numpy as np\n",
    "from dezero import Variable\n",
    "\n",
    "\n",
    "x = Variable(np.array(1.0))\n",
    "y = (x + 3) ** 2\n",
    "y.backward()\n",
    "\n",
    "print(y)\n",
    "print(x.grad)"
   ]
  },
  {
   "cell_type": "code",
   "execution_count": null,
   "id": "71426d33-f05e-4c38-a23f-5111debaf5b3",
   "metadata": {},
   "outputs": [],
   "source": []
  },
  {
   "cell_type": "code",
   "execution_count": null,
   "id": "f2220d3f-9600-40ce-920f-5b5176f1f675",
   "metadata": {},
   "outputs": [],
   "source": []
  }
 ],
 "metadata": {
  "kernelspec": {
   "display_name": "Python [conda env:base] *",
   "language": "python",
   "name": "conda-base-py"
  },
  "language_info": {
   "codemirror_mode": {
    "name": "ipython",
    "version": 3
   },
   "file_extension": ".py",
   "mimetype": "text/x-python",
   "name": "python",
   "nbconvert_exporter": "python",
   "pygments_lexer": "ipython3",
   "version": "3.12.7"
  }
 },
 "nbformat": 4,
 "nbformat_minor": 5
}
