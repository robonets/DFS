{
 "cells": [
  {
   "cell_type": "markdown",
   "id": "868e5768-68c8-4e3e-9e68-01b08a83f25e",
   "metadata": {},
   "source": [
    "Dropout"
   ]
  },
  {
   "cell_type": "code",
   "execution_count": 2,
   "id": "ea6a7db0-85cc-49c2-b12b-457ba1c24c34",
   "metadata": {},
   "outputs": [],
   "source": [
    "import numpy as np\n",
    "\n",
    "dropout_ratio = 0.6\n",
    "x = np.ones(10)\n",
    "\n",
    "mask = np.random.rand(10) > dropout_ratio\n",
    "y = x * mask"
   ]
  },
  {
   "cell_type": "code",
   "execution_count": 4,
   "id": "9f6007bf-0e8f-498f-9eeb-768480fa3531",
   "metadata": {},
   "outputs": [],
   "source": [
    "def dropout(x, dropout_ratio=0.5):\n",
    "    x = as_variable(x)\n",
    "\n",
    "    if dezero.Config.train:\n",
    "        xp = cuda.get_array_module(x)\n",
    "        mask = xp.random.rand(*x.shape) > dropout_ratio\n",
    "        scale = xp.array(1.0 - dropout_ratio).astype(x.dtype)\n",
    "        y = x * mask / scale\n",
    "        return y\n",
    "    else:\n",
    "        return x"
   ]
  },
  {
   "cell_type": "code",
   "execution_count": 8,
   "id": "6780b446-bbde-4a03-89af-a396d8ef81d8",
   "metadata": {},
   "outputs": [
    {
     "name": "stdout",
     "output_type": "stream",
     "text": [
      "[1. 1. 1. 1. 1.]\n",
      "variable([2. 2. 2. 2. 0.])\n",
      "variable([1. 1. 1. 1. 1.])\n"
     ]
    }
   ],
   "source": [
    "import sys\n",
    "import os\n",
    "\n",
    "cwd = os.getcwd()\n",
    "parent_dir = os.path.abspath(os.path.join(cwd, os.pardir))\n",
    "sys.path.append(parent_dir)\n",
    "\n",
    "import numpy as np\n",
    "from dezero import test_mode\n",
    "import dezero.functions as F\n",
    "\n",
    "x = np.ones(5)\n",
    "print(x)\n",
    "\n",
    "y = F.dropout(x)\n",
    "print(y)\n",
    "\n",
    "with test_mode():\n",
    "    y = F.dropout(x)\n",
    "    print(y)"
   ]
  },
  {
   "cell_type": "code",
   "execution_count": null,
   "id": "ad9c0728-f5c6-41d5-a882-05a17bc4558a",
   "metadata": {},
   "outputs": [],
   "source": []
  }
 ],
 "metadata": {
  "kernelspec": {
   "display_name": "Python [conda env:base] *",
   "language": "python",
   "name": "conda-base-py"
  },
  "language_info": {
   "codemirror_mode": {
    "name": "ipython",
    "version": 3
   },
   "file_extension": ".py",
   "mimetype": "text/x-python",
   "name": "python",
   "nbconvert_exporter": "python",
   "pygments_lexer": "ipython3",
   "version": "3.12.7"
  }
 },
 "nbformat": 4,
 "nbformat_minor": 5
}
